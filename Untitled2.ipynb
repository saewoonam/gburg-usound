{
 "cells": [
  {
   "cell_type": "code",
   "execution_count": 1,
   "id": "6622340e",
   "metadata": {},
   "outputs": [
    {
     "name": "stdout",
     "output_type": "stream",
     "text": [
      "/Users/nams/Documents/projects/gburg-ultrasonic/peak_mark_cffi\n"
     ]
    }
   ],
   "source": [
    "cd peak_mark_cffi/"
   ]
  },
  {
   "cell_type": "code",
   "execution_count": 2,
   "id": "f3410b87",
   "metadata": {},
   "outputs": [
    {
     "name": "stdout",
     "output_type": "stream",
     "text": [
      "generating ./_peak_find.c\n",
      "(already up-to-date)\n",
      "the current directory is '/Users/nams/Documents/projects/gburg-ultrasonic/peak_mark_cffi'\n",
      "running build_ext\n",
      "building '_peak_find' extension\n",
      "gcc -Wno-unused-result -Wsign-compare -Wunreachable-code -DNDEBUG -g -fwrapv -O3 -Wall -Wstrict-prototypes -I/Users/nams/micromamba/envs/cq/include -arch x86_64 -I/Users/nams/micromamba/envs/cq/include -arch x86_64 -I/Users/nams/micromamba/envs/cq/include/python3.8 -c _peak_find.c -o ./_peak_find.o\n",
      "gcc -Wno-unused-result -Wsign-compare -Wunreachable-code -DNDEBUG -g -fwrapv -O3 -Wall -Wstrict-prototypes -I/Users/nams/micromamba/envs/cq/include -arch x86_64 -I/Users/nams/micromamba/envs/cq/include -arch x86_64 -I/Users/nams/micromamba/envs/cq/include/python3.8 -c peak_mark.c -o ./peak_mark.o\n",
      "gcc -bundle -undefined dynamic_lookup -L/Users/nams/micromamba/envs/cq/lib -arch x86_64 -L/Users/nams/micromamba/envs/cq/lib -arch x86_64 -arch x86_64 ./_peak_find.o ./peak_mark.o -lm -o ./_peak_find.cpython-38-darwin.so\n",
      "elapsed time:  0.006428241729736328\n",
      "[[          27          510           63         1663 152403087472]\n",
      " [          62          443           28         2205    478121413]\n",
      " [          60          510           33         1733 152990931635]\n",
      " [          25          444           22         2229    501183231]\n",
      " [          47          508           17         1723 153182052006]\n",
      " [          25          443           24         2247    500638677]\n",
      " [          47          505           17         1721 153410743501]\n",
      " [          24          441           25         2248    492011011]\n",
      " [          48          511           21         1724 153276197562]\n",
      " [          27          442           26         2245    490197741]\n",
      " [          47          508           16         1718 153548487660]\n",
      " [          31          442           30         2254    488724265]\n",
      " [          46          509           16         1714 153715238746]\n",
      " [          22          443           25         2249    489837803]\n",
      " [          46          509           16         1719 153765399625]\n",
      " [          26          442           25         2249    487572372]\n",
      " [          46          509           16         1719 153735144875]\n",
      " [          22          443           25         2249    487432333]\n",
      " [          54          504           16         1719 153622641395]]\n"
     ]
    }
   ],
   "source": [
    "from cffi_peak_mark_block import *"
   ]
  },
  {
   "cell_type": "code",
   "execution_count": null,
   "id": "1c925523",
   "metadata": {},
   "outputs": [],
   "source": [
    "signals"
   ]
  },
  {
   "cell_type": "code",
   "execution_count": null,
   "id": "68e6b191",
   "metadata": {},
   "outputs": [],
   "source": [
    "%matplotlib notebook\n",
    "plt.figure()\n",
    "t = np.arange(len(x))\n",
    "plt.plot(x)\n",
    "plt.plot(t[signals.astype(bool)], x[signals.astype(bool)], '.')"
   ]
  },
  {
   "cell_type": "code",
   "execution_count": null,
   "id": "f36aa240",
   "metadata": {},
   "outputs": [],
   "source": []
  }
 ],
 "metadata": {
  "kernelspec": {
   "display_name": "Python 3 (ipykernel)",
   "language": "python",
   "name": "python3"
  },
  "language_info": {
   "codemirror_mode": {
    "name": "ipython",
    "version": 3
   },
   "file_extension": ".py",
   "mimetype": "text/x-python",
   "name": "python",
   "nbconvert_exporter": "python",
   "pygments_lexer": "ipython3",
   "version": "3.8.12"
  }
 },
 "nbformat": 4,
 "nbformat_minor": 5
}
