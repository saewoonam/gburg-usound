{
 "cells": [
  {
   "cell_type": "code",
   "execution_count": 1,
   "id": "5fa1b9b9",
   "metadata": {},
   "outputs": [],
   "source": [
    "import numpy as np\n",
    "import matplotlib.pyplot as plt\n",
    "import time"
   ]
  },
  {
   "cell_type": "code",
   "execution_count": 2,
   "id": "f5cf7c91",
   "metadata": {},
   "outputs": [
    {
     "name": "stdout",
     "output_type": "stream",
     "text": [
      "generating ./_goertzel.c\n",
      "(already up-to-date)\n",
      "the current directory is '/Users/nams/Documents/projects/gburg-ultrasonic'\n",
      "running build_ext\n",
      "building '_goertzel' extension\n",
      "gcc -Wno-unused-result -Wsign-compare -Wunreachable-code -DNDEBUG -g -fwrapv -O3 -Wall -Wstrict-prototypes -I/Users/nams/micromamba/envs/cq/include -arch x86_64 -I/Users/nams/micromamba/envs/cq/include -arch x86_64 -I/Users/nams/micromamba/envs/cq/include/python3.8 -c _goertzel.c -o ./_goertzel.o\n",
      "gcc -bundle -undefined dynamic_lookup -L/Users/nams/micromamba/envs/cq/lib -arch x86_64 -L/Users/nams/micromamba/envs/cq/lib -arch x86_64 -arch x86_64 ./_goertzel.o -lm -o ./_goertzel.cpython-38-darwin.so\n"
     ]
    }
   ],
   "source": [
    "from goertzel_test import sg_z\n",
    "from peak_mark import pk_mark, pk_mark_block, peak_marking_block, dt_settings, dt_state"
   ]
  },
  {
   "cell_type": "code",
   "execution_count": 3,
   "id": "3b7770dc",
   "metadata": {},
   "outputs": [],
   "source": [
    "dt = np.dtype([('counter', 'i4'), ('status', 'i4'), ('timestamp', 'f8'), ('micdata', '64i4')])\n",
    "data = np.fromfile('mic_data/RawData_pureTX_Case1.dat',dtype=dt)\n",
    "data = np.fromfile('mic_data/RawData_pureRX_330cm.dat',dtype=dt)\n",
    "# data = np.fromfile('mic_data/RawData_pureTX_Case6.dat',dtype=dt)\n",
    "# data = np.fromfile('mic_data/RawData_pureRX_330cm_Rev.dat',dtype=dt)\n"
   ]
  },
  {
   "cell_type": "code",
   "execution_count": 4,
   "id": "bfe629ce",
   "metadata": {},
   "outputs": [],
   "source": [
    "raw = np.zeros(64*len(data), dtype=np.int32)\n",
    "for count in range(len(data)):\n",
    "    raw[(count*64):((count+1)*64)] = data[count][3]"
   ]
  },
  {
   "cell_type": "code",
   "execution_count": 5,
   "id": "a310a100",
   "metadata": {},
   "outputs": [],
   "source": [
    "Z = {}\n",
    "for k in range(98, 103):\n",
    "    Z[k] = sg_z(raw>>14, k)\n",
    "\n",
    "hamming = abs(Z[100] * 2.0 - Z[99] - Z[101])\n",
    "y = abs(Z[100])"
   ]
  },
  {
   "cell_type": "code",
   "execution_count": 6,
   "id": "f716bbdf",
   "metadata": {},
   "outputs": [],
   "source": [
    "from peak_mark import pk_mark, pk_mark_block, peak_marking_block, dt_settings, dt_state"
   ]
  },
  {
   "cell_type": "code",
   "execution_count": 7,
   "id": "5a1819c8",
   "metadata": {},
   "outputs": [
    {
     "data": {
      "text/plain": [
       "49"
      ]
     },
     "execution_count": 7,
     "metadata": {},
     "output_type": "execute_result"
    }
   ],
   "source": [
    "pks, s = pk_mark(y, 256, 2, 5e-4, 128, 300)\n",
    "len(pks)"
   ]
  },
  {
   "cell_type": "code",
   "execution_count": 8,
   "id": "b52bcacf",
   "metadata": {},
   "outputs": [
    {
     "data": {
      "image/png": "[encoded data removed]",
      "text/plain": [
       "<Figure size 432x288 with 1 Axes>"
      ]
     },
     "metadata": {
      "needs_background": "light"
     },
     "output_type": "display_data"
    }
   ],
   "source": [
    "plt.figure()\n",
    "t = np.arange(len(y))\n",
    "plt.plot(t,y)\n",
    "plt.plot(t[s==1], y[s==1],'.')\n",
    "for pkinfo in pks:\n",
    "    begin = int(pkinfo[0])\n",
    "    end = int(pkinfo[0] + pkinfo[1])\n",
    "    plt.plot(t[begin:end], y[begin:end], 'r.')"
   ]
  },
  {
   "cell_type": "code",
   "execution_count": 9,
   "id": "e71708de",
   "metadata": {},
   "outputs": [
    {
     "name": "stdout",
     "output_type": "stream",
     "text": [
      "0.9375479221343994\n",
      "0.1463329792022705\n",
      "0.17566609382629395\n",
      "0.14630889892578125\n",
      "0.2713358402252197\n",
      "0.17842984199523926\n",
      "0.1588449478149414\n",
      "0.14193987846374512\n",
      "0.1685340404510498\n",
      "0.14736294746398926\n",
      "(40.3291016, 0.69078655, 1279999, 401096, 0, -1, -1., 401045)\n"
     ]
    },
    {
     "data": {
      "text/plain": [
       "(49, 1280000)"
      ]
     },
     "execution_count": 9,
     "metadata": {},
     "output_type": "execute_result"
    }
   ],
   "source": [
    "settings_np = np.recarray(1, dtype=dt_settings)[0]\n",
    "state = np.recarray(1, dtype=dt_state)[0]\n",
    "\n",
    "for repeat in range(10):\n",
    "    settings_np.mph = 300\n",
    "    settings_np.lag = 256\n",
    "    settings_np.width = 128\n",
    "    settings_np.threshold = 2\n",
    "    settings_np.influence = 5e-4\n",
    "    #print('settings', settings_np)\n",
    "\n",
    "    state.avgFilter = 0\n",
    "    state.std2 = 0\n",
    "    state.write_addr = -1\n",
    "    state.length = 0\n",
    "    state.pk_idx = -1\n",
    "    state.pk = -1\n",
    "    state.time_between = -1\n",
    "    state.pk_time = -1\n",
    "\n",
    "    settings = settings_np\n",
    "\n",
    "    pks_blocks = []\n",
    "    signals = np.zeros(len(y))\n",
    "    debug = np.zeros(len(y))\n",
    "    filteredY = np.zeros(settings.lag)\n",
    "    start = time.time()\n",
    "\n",
    "    for count in range(len(y)//64):    \n",
    "        packet = y[(count*64):((count+1)*64)]\n",
    "        packet_s = signals[(count*64):((count+1)*64)]\n",
    "        # packet_d = debug[(count*64):((count+1)*64)]\n",
    "        result = peak_marking_block(packet, len(packet), filteredY, settings, state, packet_s)\n",
    "        if result:\n",
    "            pks_blocks.extend(result)\n",
    "    print(time.time()-start)\n",
    "print(state)\n",
    "len(pks_blocks), len(y)"
   ]
  },
  {
   "cell_type": "code",
   "execution_count": 10,
   "id": "03ab5efa",
   "metadata": {},
   "outputs": [
    {
     "data": {
      "text/plain": [
       "array([0., 0., 0., 0., 0., 0., 0., 0., 0., 0., 0., 0., 0., 0., 0., 0., 0.,\n",
       "       0., 0., 0., 0., 0., 0., 0., 0., 0., 0., 0., 0., 0., 0., 0., 0., 0.,\n",
       "       0., 0., 0., 0., 0., 0., 0., 0., 0., 0., 0., 0., 0., 0., 0.])"
      ]
     },
     "execution_count": 10,
     "metadata": {},
     "output_type": "execute_result"
    }
   ],
   "source": [
    "np.array(pks)[:,-1] - np.array(pks_blocks)[:,-1]"
   ]
  },
  {
   "cell_type": "code",
   "execution_count": 11,
   "id": "4f008e6b",
   "metadata": {},
   "outputs": [
    {
     "data": {
      "text/plain": [
       "array([0., 0., 0., 0., 0., 0., 0., 0., 0., 0., 0., 0., 0., 0., 0., 0., 0.,\n",
       "       0., 0., 0., 0., 0., 0., 0., 0., 0., 0., 0., 0., 0., 0., 0., 0., 0.,\n",
       "       0., 0., 0., 0., 0., 0., 0., 0., 0., 0., 0., 0., 0., 0., 0.])"
      ]
     },
     "execution_count": 11,
     "metadata": {},
     "output_type": "execute_result"
    }
   ],
   "source": [
    "np.array(pks)[:,1] - np.array(pks_blocks)[:,1]"
   ]
  },
  {
   "cell_type": "code",
   "execution_count": 12,
   "id": "e218f31c",
   "metadata": {},
   "outputs": [
    {
     "data": {
      "text/plain": [
       "array([0., 0., 0., 0., 0., 0., 0., 0., 0., 0., 0., 0., 0., 0., 0., 0., 0.,\n",
       "       0., 0., 0., 0., 0., 0., 0., 0., 0., 0., 0., 0., 0., 0., 0., 0., 0.,\n",
       "       0., 0., 0., 0., 0., 0., 0., 0., 0., 0., 0., 0., 0., 0.])"
      ]
     },
     "execution_count": 12,
     "metadata": {},
     "output_type": "execute_result"
    }
   ],
   "source": [
    "np.diff(np.array(pks)[:,-2]) - np.array(pks_blocks)[1:,0]"
   ]
  },
  {
   "cell_type": "code",
   "execution_count": 13,
   "id": "cde4a7ab",
   "metadata": {},
   "outputs": [],
   "source": [
    "import scipy.constants as codata"
   ]
  },
  {
   "cell_type": "code",
   "execution_count": 17,
   "id": "d07e962c",
   "metadata": {},
   "outputs": [
    {
     "data": {
      "text/plain": [
       "2.6485944761985717e-21"
      ]
     },
     "execution_count": 17,
     "metadata": {},
     "output_type": "execute_result"
    }
   ],
   "source": [
    "codata.h * codata.c / 1.5e-6 * ((4e-4)**0.5)"
   ]
  },
  {
   "cell_type": "code",
   "execution_count": null,
   "id": "2b1f9698",
   "metadata": {},
   "outputs": [],
   "source": []
  }
 ],
 "metadata": {
  "kernelspec": {
   "display_name": "Python 3 (ipykernel)",
   "language": "python",
   "name": "python3"
  },
  "language_info": {
   "codemirror_mode": {
    "name": "ipython",
    "version": 3
   },
   "file_extension": ".py",
   "mimetype": "text/x-python",
   "name": "python",
   "nbconvert_exporter": "python",
   "pygments_lexer": "ipython3",
   "version": "3.8.12"
  }
 },
 "nbformat": 4,
 "nbformat_minor": 5
}
