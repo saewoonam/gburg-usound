{
 "cells": [
  {
   "cell_type": "code",
   "execution_count": 98,
   "id": "11ed76f4",
   "metadata": {},
   "outputs": [],
   "source": [
    "import numpy as np\n",
    "import matplotlib.pyplot as plt\n",
    "from numba import jit, njit\n",
    "import time"
   ]
  },
  {
   "cell_type": "code",
   "execution_count": 2,
   "id": "816f501c",
   "metadata": {},
   "outputs": [],
   "source": [
    "dt = np.dtype([('counter', 'i4'), ('status', 'i4'), ('timestamp', 'f8'), ('micdata', '64i4')])\n"
   ]
  },
  {
   "cell_type": "code",
   "execution_count": 3,
   "id": "1a70b297",
   "metadata": {},
   "outputs": [],
   "source": [
    "data = np.fromfile('mic_data/RawData_pureTX_Case1.dat',dtype=dt)\n",
    "data = np.fromfile('mic_data/RawData_pureRX_330cm.dat',dtype=dt)\n",
    "# data = np.fromfile('mic_data/RawData_pureTX_Case6.dat',dtype=dt)\n",
    "# data = np.fromfile('mic_data/RawData_pureRX_330cm_Rev.dat',dtype=dt)\n"
   ]
  },
  {
   "cell_type": "code",
   "execution_count": 4,
   "id": "2b9b0e3f",
   "metadata": {},
   "outputs": [],
   "source": [
    "raw = np.zeros(64*len(data), dtype=np.int32)\n",
    "for count in range(len(data)):\n",
    "    raw[(count*64):((count+1)*64)] = data[count][3]"
   ]
  },
  {
   "cell_type": "code",
   "execution_count": 5,
   "id": "64cb2438",
   "metadata": {},
   "outputs": [
    {
     "name": "stdout",
     "output_type": "stream",
     "text": [
      "generating ./_goertzel.c\n",
      "(already up-to-date)\n",
      "the current directory is '/Users/nams/Documents/projects/gburg-ultrasonic'\n",
      "running build_ext\n",
      "building '_goertzel' extension\n",
      "gcc -Wno-unused-result -Wsign-compare -Wunreachable-code -DNDEBUG -g -fwrapv -O3 -Wall -Wstrict-prototypes -I/Users/nams/micromamba/envs/cq/include -arch x86_64 -I/Users/nams/micromamba/envs/cq/include -arch x86_64 -I/Users/nams/micromamba/envs/cq/include/python3.8 -c _goertzel.c -o ./_goertzel.o\n",
      "gcc -bundle -undefined dynamic_lookup -L/Users/nams/micromamba/envs/cq/lib -arch x86_64 -L/Users/nams/micromamba/envs/cq/lib -arch x86_64 -arch x86_64 ./_goertzel.o -lm -o ./_goertzel.cpython-38-darwin.so\n"
     ]
    }
   ],
   "source": [
    "from goertzel_test import sg_z"
   ]
  },
  {
   "cell_type": "code",
   "execution_count": null,
   "id": "342757a5",
   "metadata": {},
   "outputs": [],
   "source": [
    "# Sliding Goertzel\n",
    "@jit\n",
    "def sg_v2(x, k, Z): #, C, S):\n",
    "    Pxx =[]\n",
    "    #Z = []\n",
    "    N = 64*4\n",
    "    w = 2*np.pi*k/N;\n",
    "    cw = np.cos(w);\n",
    "    c = 2*cw;\n",
    "    sw = np.sin(w);\n",
    "    z1=0;\n",
    "    z2=0;\n",
    "    #while (idx < (len(x)-1)):\n",
    "    for idx in range(len(x)):\n",
    "        if idx<N:\n",
    "            z0 = x[idx] + c*z1 - z2;\n",
    "        else:\n",
    "            z0 = x[idx] - x[idx-N] + c*z1 -z2;\n",
    "        z2 = z1;\n",
    "        z1 = z0;\n",
    "\n",
    "        P = z2*z2 + z1*z1 - c * z1*z2\n",
    "        I = cw*z1 -z2;\n",
    "        Q = sw*z1;\n",
    "        Pxx.append(P)\n",
    "        #C[idx] = I\n",
    "        #S[idx] = Q\n",
    "        #Z.append(Q + 1j*I)\n",
    "        Z[idx] = Q + 1j*I\n",
    "    return np.array(Pxx)  #, np.array(C), np.array(S)\n",
    "\n",
    "\n",
    "def sg(x, k):\n",
    "    Z = np.zeros(len(x), complex)\n",
    "    Pxx = sg_v2(x, k, Z)\n",
    "    return Pxx, Z"
   ]
  },
  {
   "cell_type": "code",
   "execution_count": null,
   "id": "53501dc6",
   "metadata": {},
   "outputs": [],
   "source": [
    "#Z = np.zeros(len(raw), complex)\n",
    "#filtered = sg_v2(raw>>14, 100, Z)\n",
    "filtered, Z = sg(raw>>14, 100)\n",
    "\n",
    "Z = {}\n",
    "Z2={}\n",
    "f = {}\n",
    "Z[100] = np.zeros(len(raw), complex)\n",
    "f[100] = sg_v2(raw>>14, 100, Z[100])\n",
    "Z[99] = np.zeros(len(raw), complex)\n",
    "f[99] = sg_v2(raw>>14, 99, Z[99])\n",
    "Z[101] = np.zeros(len(raw), complex)\n",
    "f[101] = sg_v2(raw>>14, 101, Z[101])\n",
    "\n",
    "for k in [99, 100, 101]:\n",
    "    f[k], Z2[k] = sg(raw>>14, k)\n",
    "\n",
    "hamming = abs(Z[100] * 2.0 - Z[99] - Z[101])\n",
    "hamming2 =abs(Z2[100] * 2.0 - Z2[99] - Z2[101])"
   ]
  },
  {
   "cell_type": "code",
   "execution_count": 6,
   "id": "8bbc1310",
   "metadata": {},
   "outputs": [],
   "source": [
    "Z = {}\n",
    "for k in range(98, 103):\n",
    "    Z[k] = sg_z(raw>>14, k)\n",
    "\n",
    "hamming = abs(Z[100] * 2.0 - Z[99] - Z[101])\n",
    "y = abs(Z[100])"
   ]
  },
  {
   "cell_type": "code",
   "execution_count": null,
   "id": "1209c0bf",
   "metadata": {},
   "outputs": [],
   "source": [
    "np.where(hamming - hamming2)"
   ]
  },
  {
   "cell_type": "code",
   "execution_count": null,
   "id": "2d8411ce",
   "metadata": {
    "scrolled": false
   },
   "outputs": [],
   "source": [
    "%matplotlib notebook\n",
    "plt.figure()\n",
    "plt.semilogy((2*filtered)**0.5)\n",
    "plt.semilogy(hamming)"
   ]
  },
  {
   "cell_type": "code",
   "execution_count": null,
   "id": "985de6f2",
   "metadata": {},
   "outputs": [],
   "source": [
    "y = (2*filtered)**0.5"
   ]
  },
  {
   "cell_type": "code",
   "execution_count": 7,
   "id": "3c2ad222",
   "metadata": {},
   "outputs": [],
   "source": [
    "from peak_mark import pk_mark"
   ]
  },
  {
   "cell_type": "code",
   "execution_count": 8,
   "id": "cdc5fe4c",
   "metadata": {},
   "outputs": [
    {
     "data": {
      "text/plain": [
       "49"
      ]
     },
     "execution_count": 8,
     "metadata": {},
     "output_type": "execute_result"
    }
   ],
   "source": [
    "pks, s = pk_mark(y, 256, 2, 5e-4, 128, 300)\n",
    "len(pks)"
   ]
  },
  {
   "cell_type": "code",
   "execution_count": 9,
   "id": "a9f356d4",
   "metadata": {},
   "outputs": [
    {
     "data": {
      "image/png": "[encoded data removed]",
      "text/plain": [
       "<Figure size 432x288 with 1 Axes>"
      ]
     },
     "metadata": {
      "needs_background": "light"
     },
     "output_type": "display_data"
    }
   ],
   "source": [
    "plt.figure()\n",
    "t = np.arange(len(y))\n",
    "plt.plot(t,y)\n",
    "plt.plot(t[s==1], y[s==1],'.')\n",
    "for pkinfo in pks:\n",
    "    begin = int(pkinfo[0])\n",
    "    end = int(pkinfo[0] + pkinfo[1])\n",
    "    plt.plot(t[begin:end], y[begin:end], 'r.')"
   ]
  },
  {
   "cell_type": "code",
   "execution_count": null,
   "id": "18544003",
   "metadata": {},
   "outputs": [],
   "source": [
    "np.diff(np.array(pks)[:,2])\n"
   ]
  },
  {
   "cell_type": "code",
   "execution_count": 20,
   "id": "3a54a1f7",
   "metadata": {},
   "outputs": [
    {
     "data": {
      "text/plain": [
       "[[237147.0, 584.0, 237432.0, 1641.3169786964393],\n",
       " [237756.0, 514.0, 238010.0, 2891.337558654567],\n",
       " [269150.0, 582.0, 269441.0, 1745.8032251444806],\n",
       " [269765.0, 510.0, 270019.0, 2971.762439193229],\n",
       " [300673.0, 1051.0, 301443.0, 1679.6819192911341],\n",
       " [301762.0, 520.0, 302021.0, 3058.8331477897336],\n",
       " [333166.0, 558.0, 333443.0, 1772.1871694412068],\n",
       " [333762.0, 510.0, 334022.0, 2986.6108475296473],\n",
       " [334807.0, 139.0, 334881.0, 417.6974736474435],\n",
       " [365158.0, 566.0, 365442.0, 1858.2675687271824],\n",
       " [365771.0, 510.0, 366021.0, 2962.304767831505],\n",
       " [366753.0, 180.0, 366850.0, 451.18420705440906],\n",
       " [397168.0, 558.0, 397440.0, 1627.7352199097932],\n",
       " [397764.0, 511.0, 398018.0, 3025.067025503378],\n",
       " [398750.0, 137.0, 398832.0, 414.9266242239062],\n",
       " [429155.0, 466.0, 429445.0, 1778.407374432776],\n",
       " [429772.0, 501.0, 430018.0, 2995.280597919729],\n",
       " [461141.0, 566.0, 461444.0, 1810.3957305768029],\n",
       " [461768.0, 506.0, 462022.0, 2935.0173142844997],\n",
       " [493153.0, 550.0, 493441.0, 1859.6996666681905],\n",
       " [493762.0, 515.0, 494020.0, 3004.2168631126538],\n",
       " [525151.0, 559.0, 525443.0, 1798.4598136048767],\n",
       " [525766.0, 512.0, 526022.0, 2923.8892290007284],\n",
       " [557147.0, 548.0, 557443.0, 1730.1891121502],\n",
       " [557766.0, 507.0, 558017.0, 2959.376504220267],\n",
       " [589155.0, 543.0, 589440.0, 1564.2569358115468],\n",
       " [589756.0, 519.0, 590019.0, 2894.1770650015583],\n",
       " [621101.0, 619.0, 621443.0, 1429.0050560617776],\n",
       " [621757.0, 528.0, 622021.0, 2911.362680683662],\n",
       " [653154.0, 545.0, 653442.0, 1375.1082495629712],\n",
       " [653751.0, 531.0, 654021.0, 2899.781817516181],\n",
       " [685114.0, 562.0, 685444.0, 1504.8414192520336],\n",
       " [685749.0, 528.0, 686018.0, 2910.480674793911],\n",
       " [717129.0, 552.0, 717439.0, 1584.0030342328116],\n",
       " [717759.0, 519.0, 718018.0, 2940.743137413261],\n",
       " [748794.0, 913.0, 749444.0, 1484.5850779846933],\n",
       " [749757.0, 520.0, 750017.0, 2932.806010794241],\n",
       " [781165.0, 539.0, 781441.0, 1490.7059309447338],\n",
       " [781751.0, 530.0, 782019.0, 2945.814202978044],\n",
       " [782771.0, 190.0, 782918.0, 472.9679240089444],\n",
       " [813121.0, 588.0, 813441.0, 1515.1342780589762],\n",
       " [813757.0, 524.0, 814019.0, 3023.706616066995],\n",
       " [814815.0, 138.0, 814860.0, 505.7462030929364],\n",
       " [845156.0, 551.0, 845440.0, 1539.6244508120092],\n",
       " [845754.0, 522.0, 846019.0, 2999.713968157806],\n",
       " [846772.0, 218.0, 846916.0, 571.1413449442445],\n",
       " [877147.0, 563.0, 877438.0, 1543.559573247417],\n",
       " [877757.0, 515.0, 878016.0, 3093.4775955223176],\n",
       " [878840.0, 161.0, 878903.0, 505.4936189075047]]"
      ]
     },
     "execution_count": 20,
     "metadata": {},
     "output_type": "execute_result"
    }
   ],
   "source": [
    "pks"
   ]
  },
  {
   "cell_type": "code",
   "execution_count": null,
   "id": "02395846",
   "metadata": {},
   "outputs": [],
   "source": [
    "%matplotlib notebook\n",
    "hamming = abs(hamming)\n",
    "pks, s = pk_mark(hamming, 256, 4, 1e-3, 256, 300)\n",
    "plt.figure()\n",
    "t = np.arange(len(hamming))\n",
    "plt.plot(t,hamming)\n",
    "plt.plot(t[s==1], hamming[s==1],'.')\n",
    "for pkinfo in pks:\n",
    "    begin = int(pkinfo[0])\n",
    "    end = int(pkinfo[0] + pkinfo[1])\n",
    "    plt.plot(t[begin:end], hamming[begin:end], 'r.')\n",
    "len(pks)"
   ]
  },
  {
   "cell_type": "code",
   "execution_count": null,
   "id": "71554357",
   "metadata": {},
   "outputs": [],
   "source": [
    "np.diff(np.array(pks)[:,2])"
   ]
  },
  {
   "cell_type": "code",
   "execution_count": null,
   "id": "a8be2702",
   "metadata": {},
   "outputs": [],
   "source": [
    "hamming = abs(hamming)\n",
    "pks, s = pk_mark(hamming, 256, 3, 2.5e-4, 256, 300)\n",
    "plt.figure()\n",
    "t = np.arange(len(hamming))\n",
    "plt.plot(t,hamming)\n",
    "plt.plot(t[s==1], hamming[s==1],'.')\n",
    "for pkinfo in pks:\n",
    "    begin = int(pkinfo[0])\n",
    "    end = int(pkinfo[0] + pkinfo[1])\n",
    "    plt.plot(t[begin:end], hamming[begin:end], 'r.')"
   ]
  },
  {
   "cell_type": "code",
   "execution_count": null,
   "id": "bbe63547",
   "metadata": {},
   "outputs": [],
   "source": [
    "len(pks)"
   ]
  },
  {
   "cell_type": "code",
   "execution_count": null,
   "id": "256a67a5",
   "metadata": {},
   "outputs": [],
   "source": [
    "import glob\n"
   ]
  },
  {
   "cell_type": "code",
   "execution_count": null,
   "id": "f12d7b28",
   "metadata": {},
   "outputs": [],
   "source": [
    "files = glob.glob('mic_data/RawData_pureRX_*cm.dat')\n",
    "files.sort()\n",
    "files"
   ]
  },
  {
   "cell_type": "code",
   "execution_count": null,
   "id": "42ff2da7",
   "metadata": {},
   "outputs": [],
   "source": [
    "filtered = sg_v2(raw>>14, 100, Z)"
   ]
  },
  {
   "cell_type": "code",
   "execution_count": null,
   "id": "b0ae7901",
   "metadata": {
    "scrolled": false
   },
   "outputs": [],
   "source": [
    "sig = []\n",
    "for filename in files:\n",
    "    data = np.fromfile(filename,dtype=dt)\n",
    "    raw = np.zeros(64*len(data), dtype=np.int32)\n",
    "    for count in range(len(data)):\n",
    "        raw[(count*64):((count+1)*64)] = data[count][3]\n",
    "    Z = np.zeros(len(raw), complex)\n",
    "    filtered = sg_v2(raw>>14, 100, Z)\n",
    "\n",
    "    Z = {}\n",
    "    f = {}\n",
    "    Z[100] = np.zeros(len(raw), complex)\n",
    "    f[100] = sg_v2(raw>>14, 100, Z[100])\n",
    "    Z[99] = np.zeros(len(raw), complex)\n",
    "    f[99] = sg_v2(raw>>14, 99, Z[99])\n",
    "    Z[101] = np.zeros(len(raw), complex)\n",
    "    f[101] = sg_v2(raw>>14, 101, Z[101])\n",
    "\n",
    "    hamming = abs(Z[100] * 2.0 - Z[99] - Z[101])\n",
    "    \n",
    "    pks, s = pk_mark(hamming, 256, 4, 1e-3, 256)\n",
    "    print(filename)\n",
    "    pks = np.array(pks)[:,3]\n",
    "    print(pks.mean(), pks.std())\n",
    "    sig.append([int(filename.split('_')[-1].split('cm')[0]), pks.mean()])"
   ]
  },
  {
   "cell_type": "code",
   "execution_count": null,
   "id": "a7a091d0",
   "metadata": {},
   "outputs": [],
   "source": [
    "sig"
   ]
  },
  {
   "cell_type": "code",
   "execution_count": null,
   "id": "bf14a07b",
   "metadata": {},
   "outputs": [],
   "source": [
    "sig.sort()"
   ]
  },
  {
   "cell_type": "code",
   "execution_count": null,
   "id": "9315f30f",
   "metadata": {},
   "outputs": [],
   "source": [
    "sig = np.array(sig)"
   ]
  },
  {
   "cell_type": "code",
   "execution_count": null,
   "id": "8ce7cae3",
   "metadata": {},
   "outputs": [],
   "source": [
    "plt.figure()\n",
    "plt.plot(sig[:,0], sig[:,1],'x')\n",
    "plt.axis([0, 500, 0, 30000])\n",
    "x = np.arange(100, 500)\n",
    "A = 4e8\n",
    "y = A / x**2\n",
    "plt.plot(x,y, label='eyeball fit to 1/r^2')\n",
    "plt.legend()\n",
    "plt.ylabel('filtered microphone peak size [hamming goertzel]')\n",
    "plt.xlabel('distance [cm]')\n",
    "plt.title('RawData_pureRX_*cm.dat')"
   ]
  },
  {
   "cell_type": "code",
   "execution_count": null,
   "id": "b22e3604",
   "metadata": {},
   "outputs": [],
   "source": [
    "from cffi import FFI\n",
    "ffi = FFI()\n",
    "ffi.cdef(\"\"\"\n",
    "    typedef struct {\n",
    "        int lag;\n",
    "        int width;\n",
    "        double threshold;\n",
    "        double influence;\n",
    "        double mph;\n",
    "    } settings_t;\n",
    "\"\"\")"
   ]
  },
  {
   "cell_type": "code",
   "execution_count": null,
   "id": "21b054dd",
   "metadata": {},
   "outputs": [],
   "source": [
    "settings = ffi.new(\"settings_t *\")\n",
    "settings.lag = 256\n",
    "settings.width = 128\n",
    "settings.threshold = 2\n",
    "settings.influence = 5e-4\n",
    "settings.mph = 300"
   ]
  },
  {
   "cell_type": "code",
   "execution_count": 10,
   "id": "0c68b315",
   "metadata": {},
   "outputs": [],
   "source": [
    "dt_settings = np.dtype([('lag', 'i4'), ('width', 'i4'), \n",
    "                        ('threshold', 'f8'), ('influence', 'f8'), ('mph', 'f8')\n",
    "                       ])\n",
    "settings_np = np.recarray(1, dtype=dt_settings)[0]\n",
    "\n",
    "\"\"\"\n",
    "lag -- integer of how many points to compute mean and std over\n",
    "threshold -- double: multiples of std deviation that constitute a peak\n",
    "influence -- double: amount signal in the peak influences the running avg and std\n",
    "width -- integer:  minimum peak width to be added to the output\n",
    "mph: double: minimum peak hieght\n",
    "\"\"\""
   ]
  },
  {
   "cell_type": "code",
   "execution_count": 11,
   "id": "0f834903",
   "metadata": {},
   "outputs": [
    {
     "data": {
      "text/plain": [
       "(256, 128, 2., 0.0005, 300.)"
      ]
     },
     "execution_count": 11,
     "metadata": {},
     "output_type": "execute_result"
    }
   ],
   "source": [
    "settings_np.mph = 300\n",
    "settings_np.lag = 256\n",
    "settings_np.width = 128\n",
    "settings_np.threshold = 2\n",
    "settings_np.influence = 5e-4\n",
    "settings_np"
   ]
  },
  {
   "cell_type": "code",
   "execution_count": null,
   "id": "0a040817",
   "metadata": {},
   "outputs": [],
   "source": [
    "@jit\n",
    "def test(settings):\n",
    "    print(settings)\n",
    "    settings.mph = 301\n",
    "    print(settings)\n",
    "    "
   ]
  },
  {
   "cell_type": "code",
   "execution_count": null,
   "id": "b560c6c8",
   "metadata": {},
   "outputs": [],
   "source": [
    "test(settings_np)"
   ]
  },
  {
   "cell_type": "code",
   "execution_count": 12,
   "id": "b75d891c",
   "metadata": {},
   "outputs": [],
   "source": [
    "dt_state = np.dtype([\n",
    "                        ('avgFilter', 'f8'), ('std2', 'f8'),\n",
    "                       ])\n",
    "state_np = np.recarray(1, dtype=dt_state)[0]"
   ]
  },
  {
   "cell_type": "code",
   "execution_count": 13,
   "id": "8feb9d11",
   "metadata": {},
   "outputs": [
    {
     "data": {
      "text/plain": [
       "(0., 0.)"
      ]
     },
     "execution_count": 13,
     "metadata": {},
     "output_type": "execute_result"
    }
   ],
   "source": [
    "state_np.avgFilter = 0\n",
    "state_np.std2 = 0\n",
    "state_np"
   ]
  },
  {
   "cell_type": "code",
   "execution_count": 14,
   "id": "46d8efcc",
   "metadata": {},
   "outputs": [],
   "source": [
    "import numpy as np\n",
    "from numba import jit\n",
    "\n",
    "@jit\n",
    "def peak_marking_v3(y, yLen, filteredY, settings, state, signals): #, filteredY):\n",
    "    lag = settings.lag\n",
    "\n",
    "    avgFilter = state.avgFilter\n",
    "    std2 = state.std2\n",
    "    stdFilter = state.std2**0.5\n",
    "    pks = []\n",
    "    start, length, pk, pk_idx = -1, 0, -1, -1\n",
    "    write_addr = -1\n",
    "    time_between = -1\n",
    "\n",
    "    for i in range(yLen):\n",
    "        # if i == lag:\n",
    "        #     print(avgFilter, stdFilter)\n",
    "        write_addr += 1\n",
    "        time_between += 1\n",
    "        \n",
    "        idx = write_addr % lag\n",
    "        prev_idx = (write_addr -1 + lag) % lag\n",
    "        \n",
    "        oldValue = filteredY[idx] # store this for use to update mean and std\n",
    "        if abs(y[i] - avgFilter) > settings.threshold * stdFilter and (i>=lag):\n",
    "            if (y[i] > avgFilter):\n",
    "                signals[i] = 1\n",
    "                if start<0:\n",
    "                    start, length = i, 1\n",
    "                    #print(start)\n",
    "                else:\n",
    "                    #print(i, start, length)\n",
    "                    length += 1\n",
    "                if y[i]>pk:\n",
    "                    pk, pk_idx = y[i], i\n",
    "                    pk_time = time_between\n",
    "            else:\n",
    "                signals[i] = -1\n",
    "                if (start>0) and (length>settings.width) and (pk>settings.mph):\n",
    "                    pks.append([start, length, pk_idx, pk, pk_time])\n",
    "                    # print(\"-1\", i, start, length, pk_idx, pk)\n",
    "                    start, length, pk, pk_idx = -1, 0, -1, -1\n",
    "                    time_between = time_between - pk_time\n",
    "            filteredY[idx] = settings.influence * y[i] + (1 - settings.influence) * filteredY[prev_idx]\n",
    "        else:\n",
    "            signals[i] = 0\n",
    "            filteredY[idx] = y[i]\n",
    "            if (start>0) and (length>settings.width) and (pk>settings.mph):\n",
    "                pks.append([start, length, pk_idx, pk, pk_time])\n",
    "                # print(\"0:\", i, start, length, pk, pk_idx)\n",
    "                time_between = time_between - pk_time \n",
    "            start, length, pk, pk_idx = -1, 0, -1, -1\n",
    "        prevAvg = avgFilter\n",
    "        avgFilter = avgFilter + (filteredY[idx] - oldValue) / lag\n",
    "        #print(prevAvg, avgFilter, filteredY[i%lag], oldValue)\n",
    "        # avgFilter = np.mean(filteredY)\n",
    "        std2 = std2 + (filteredY[idx] - oldValue)*(filteredY[idx] + oldValue - avgFilter - prevAvg) /lag\n",
    "        stdFilter = std2**0.5\n",
    "        #stdFilter = np.std(filteredY)\n",
    "    state.std2 = std2\n",
    "    state.avgFilter = avgFilter\n",
    "    return pks\n",
    "\n",
    "@jit\n",
    "def pk_mark_v3(y, settings, state):\n",
    "    \"\"\"Find and mark peaks using z-scor algorithm\n",
    "    \n",
    "    Returns:  pks, signals\n",
    "    pks -- list of peaks... [start, length, pk_idx, pk]\n",
    "    signals -- numpy array that is the length of the input.  \n",
    "            1 if in + peak, -1 in - peak, 0 not in peak\n",
    "            \n",
    "    Keyword arguments:\n",
    "    y -- numpy array of input signal\n",
    "    lag -- integer of how many points to compute mean and std over\n",
    "    threshold -- double: multiples of std deviation that constitute a peak\n",
    "    influence -- double: amount signal in the peak influences the running avg and std\n",
    "    width -- integer:  minimum peak width to be added to the output\n",
    "    mph: double: minimum peak hieght\n",
    "    \"\"\"\n",
    "    signals = np.zeros(len(y))\n",
    "    filteredY = np.zeros(settings.lag)\n",
    "    pks = peak_marking_v3(y, len(y), filteredY, settings, state, signals)\n",
    "    print(state)\n",
    "    return pks, signals\n"
   ]
  },
  {
   "cell_type": "code",
   "execution_count": 15,
   "id": "ba24f901",
   "metadata": {},
   "outputs": [
    {
     "name": "stdout",
     "output_type": "stream",
     "text": [
      "(40.3291016, 0.69078655)\n"
     ]
    },
    {
     "data": {
      "text/plain": [
       "49"
      ]
     },
     "execution_count": 15,
     "metadata": {},
     "output_type": "execute_result"
    }
   ],
   "source": [
    "#s3 = np.zeros(len(y))\n",
    "#pks3 = peak_marking_v3(y, settings_np, s3)\n",
    "dt_state = np.dtype([\n",
    "                    ('avgFilter', 'f8'), ('std2', 'f8'),\n",
    "                   ])\n",
    "state = np.recarray(1, dtype=dt_state)[0]\n",
    "state.avgFilter = 0\n",
    "state.std2 = 0\n",
    "pks3, s3 = pk_mark_v3(y, settings_np, state)\n",
    "len(pks3)"
   ]
  },
  {
   "cell_type": "code",
   "execution_count": 16,
   "id": "eb2dd682",
   "metadata": {},
   "outputs": [
    {
     "data": {
      "text/plain": [
       "array([[0., 0., 0., 0.],\n",
       "       [0., 0., 0., 0.],\n",
       "       [0., 0., 0., 0.],\n",
       "       [0., 0., 0., 0.],\n",
       "       [0., 0., 0., 0.],\n",
       "       [0., 0., 0., 0.],\n",
       "       [0., 0., 0., 0.],\n",
       "       [0., 0., 0., 0.],\n",
       "       [0., 0., 0., 0.],\n",
       "       [0., 0., 0., 0.],\n",
       "       [0., 0., 0., 0.],\n",
       "       [0., 0., 0., 0.],\n",
       "       [0., 0., 0., 0.],\n",
       "       [0., 0., 0., 0.],\n",
       "       [0., 0., 0., 0.],\n",
       "       [0., 0., 0., 0.],\n",
       "       [0., 0., 0., 0.],\n",
       "       [0., 0., 0., 0.],\n",
       "       [0., 0., 0., 0.],\n",
       "       [0., 0., 0., 0.],\n",
       "       [0., 0., 0., 0.],\n",
       "       [0., 0., 0., 0.],\n",
       "       [0., 0., 0., 0.],\n",
       "       [0., 0., 0., 0.],\n",
       "       [0., 0., 0., 0.],\n",
       "       [0., 0., 0., 0.],\n",
       "       [0., 0., 0., 0.],\n",
       "       [0., 0., 0., 0.],\n",
       "       [0., 0., 0., 0.],\n",
       "       [0., 0., 0., 0.],\n",
       "       [0., 0., 0., 0.],\n",
       "       [0., 0., 0., 0.],\n",
       "       [0., 0., 0., 0.],\n",
       "       [0., 0., 0., 0.],\n",
       "       [0., 0., 0., 0.],\n",
       "       [0., 0., 0., 0.],\n",
       "       [0., 0., 0., 0.],\n",
       "       [0., 0., 0., 0.],\n",
       "       [0., 0., 0., 0.],\n",
       "       [0., 0., 0., 0.],\n",
       "       [0., 0., 0., 0.],\n",
       "       [0., 0., 0., 0.],\n",
       "       [0., 0., 0., 0.],\n",
       "       [0., 0., 0., 0.],\n",
       "       [0., 0., 0., 0.],\n",
       "       [0., 0., 0., 0.],\n",
       "       [0., 0., 0., 0.],\n",
       "       [0., 0., 0., 0.],\n",
       "       [0., 0., 0., 0.]])"
      ]
     },
     "execution_count": 16,
     "metadata": {},
     "output_type": "execute_result"
    }
   ],
   "source": [
    "len(pks3),pks3\n",
    "np.array(pks3)[:,:4] - np.array(pks)\n",
    "# np.diff(np.array(pks3)[:,2]) - np.array(pks3)[1:,4]"
   ]
  },
  {
   "cell_type": "code",
   "execution_count": 107,
   "id": "ecf6a1cd",
   "metadata": {},
   "outputs": [],
   "source": [
    "import numpy as np\n",
    "from numba import jit\n",
    "\n",
    "@jit\n",
    "def peak_marking_block(y, yLen, filteredY, settings, state, signals): #, filteredY):\n",
    "    lag = settings.lag\n",
    "\n",
    "    avgFilter = state.avgFilter\n",
    "    std2 = state.std2\n",
    "    stdFilter = state.std2**0.5\n",
    "    pks = []\n",
    "    # start, length, pk, pk_idx = -1, 0, -1, -1\n",
    "    write_addr = state.write_addr\n",
    "    time_between = state.time_between\n",
    "    length = state.length\n",
    "    pk = state.pk\n",
    "    pk_idx = state.pk_idx\n",
    "    pk_time = state.pk_time\n",
    "    #print(write_addr, length, pk, pk_idx)\n",
    "    for i in range(yLen):\n",
    "        # if (i%64) == 0:\n",
    "        #    print(avgFilter, stdFilter)\n",
    "        write_addr += 1\n",
    "        time_between += 1\n",
    "        \n",
    "        idx = write_addr % lag\n",
    "        prev_idx = (write_addr -1 + lag) % lag\n",
    "        \n",
    "        oldValue = filteredY[idx] # store this for use to update mean and std\n",
    "\n",
    "        if abs(y[i] - avgFilter) > settings.threshold * stdFilter and (write_addr>=lag):\n",
    "            if (y[i] > avgFilter):\n",
    "                signals[i] = 1\n",
    "                #if start<0:\n",
    "                if length==0:\n",
    "                    start, length = i, 1\n",
    "                    #print(start)\n",
    "                else:\n",
    "                    #print(i, start, length)\n",
    "                    length += 1\n",
    "                if y[i]>pk:\n",
    "                    pk, pk_idx = y[i], i\n",
    "                    pk_time = time_between\n",
    "            else:\n",
    "                signals[i] = -1\n",
    "                if (length>0) and (length>settings.width) and (pk>settings.mph):\n",
    "                    # pks.append([start, length, pk_idx, pk, pk_time])\n",
    "                    pks.append([pk_time, length, pk])\n",
    "                    print(\"-1\", i, start, length, pk_idx, pk)\n",
    "                    start, length, pk, pk_idx = -1, 0, -1, -1\n",
    "                    time_between = time_between - pk_time\n",
    "            filteredY[idx] = settings.influence * y[i] + (1 - settings.influence) * filteredY[prev_idx]\n",
    "        else:\n",
    "            signals[i] = 0\n",
    "            filteredY[idx] = y[i]\n",
    "            if (length>0) and (length>settings.width) and (pk>settings.mph):\n",
    "                #pks.append([start, length, pk_idx, pk, pk_time])\n",
    "                pks.append([pk_time, length, pk])\n",
    "                #print(\"0:\", i, start, length, pk, pk_idx, time_between, pk_time)\n",
    "                time_between = time_between - pk_time \n",
    "            start, length, pk, pk_idx = -1, 0, -1, -1\n",
    "        prevAvg = avgFilter\n",
    "        avgFilter = avgFilter + (filteredY[idx] - oldValue) / lag\n",
    "        #print(prevAvg, avgFilter, filteredY[i%lag], oldValue)\n",
    "        # avgFilter = np.mean(filteredY)\n",
    "        std2 = std2 + (filteredY[idx] - oldValue)*(filteredY[idx] + oldValue - avgFilter - prevAvg) /lag\n",
    "        stdFilter = std2**0.5\n",
    "        #stdFilter = np.std(filteredY)\n",
    "    state.std2 = std2\n",
    "    state.avgFilter = avgFilter\n",
    "    state.write_addr = write_addr\n",
    "    state.time_between = time_between\n",
    "    state.length = length\n",
    "    state.pk = pk\n",
    "    state.pk_idx = pk_idx\n",
    "    state.pk_time = pk_time\n",
    "\n",
    "    return pks\n",
    "\n",
    "@jit\n",
    "def pk_mark_block(y, settings, state):\n",
    "    \"\"\"Find and mark peaks using z-scor algorithm\n",
    "    \n",
    "    Returns:  pks, signals\n",
    "    pks -- list of peaks... [start, length, pk_idx, pk]\n",
    "    signals -- numpy array that is the length of the input.  \n",
    "            1 if in + peak, -1 in - peak, 0 not in peak\n",
    "            \n",
    "    Keyword arguments:\n",
    "    y -- numpy array of input signal\n",
    "    settings -- numpy record structure with parameters for identifying peaks\n",
    "    state -- numpy record structure that stores the state of peak finding between blocks of data\n",
    "    \"\"\"\n",
    "    signals = np.zeros(len(y))\n",
    "    filteredY = np.zeros(settings.lag)\n",
    "    pks = peak_marking_block(y, len(y), filteredY, settings, state, signals)\n",
    "    print(state)\n",
    "    return pks, signals\n"
   ]
  },
  {
   "cell_type": "code",
   "execution_count": 117,
   "id": "23afa25f",
   "metadata": {},
   "outputs": [
    {
     "name": "stdout",
     "output_type": "stream",
     "text": [
      "settings (256, 128, 3., 0.0005, 300.)\n",
      "(51.79013509, 256.09011604, 1279999, 401983, 0, -1, -1., 401717)\n",
      "0.050447940826416016\n"
     ]
    },
    {
     "data": {
      "text/plain": [
       "(42, 1280000)"
      ]
     },
     "execution_count": 117,
     "metadata": {},
     "output_type": "execute_result"
    }
   ],
   "source": [
    "dt_settings = np.dtype([('lag', 'i4'), ('width', 'i4'), \n",
    "                        ('threshold', 'f8'), ('influence', 'f8'), ('mph', 'f8')\n",
    "                       ])\n",
    "settings_np = np.recarray(1, dtype=dt_settings)[0]\n",
    "\n",
    "settings_np.mph = 300\n",
    "settings_np.lag = 256\n",
    "settings_np.width = 128\n",
    "settings_np.threshold = 3\n",
    "settings_np.influence = 5e-4\n",
    "print('settings', settings_np)\n",
    "\n",
    "dt_state = np.dtype([\n",
    "                    ('avgFilter', 'f8'), ('std2', 'f8'),\n",
    "                    ('write_addr', 'i4'), ('time_between', 'i4'),\n",
    "                    ('length', 'i4'), ('pk_idx', 'i4'),\n",
    "                    ('pk', 'f8'),\n",
    "                    ('pk_time', 'i4'),\n",
    "                   ])\n",
    "state = np.recarray(1, dtype=dt_state)[0]\n",
    "state.avgFilter = 0\n",
    "state.std2 = 0\n",
    "state.write_addr = -1\n",
    "state.length = 0\n",
    "state.pk_idx = -1\n",
    "state.pk = -1\n",
    "state.time_between = -1\n",
    "state.pk_time = -1\n",
    "\n",
    "start = time.time()\n",
    "pks_b, s_b = pk_mark_block(y, settings_np, state)\n",
    "print(time.time()-start)\n",
    "len(pks_b), len(y)"
   ]
  },
  {
   "cell_type": "code",
   "execution_count": null,
   "id": "0828f590",
   "metadata": {},
   "outputs": [],
   "source": [
    "len(pks_b),pks_b\n",
    "np.array(pks_b) - np.array(pks3)\n",
    "# np.diff(np.array(pks3)[:,2]) - np.array(pks3)[1:,4]"
   ]
  },
  {
   "cell_type": "code",
   "execution_count": null,
   "id": "12767f4b",
   "metadata": {},
   "outputs": [],
   "source": [
    "plt.figure()\n",
    "plt.plot(d_b)"
   ]
  },
  {
   "cell_type": "code",
   "execution_count": null,
   "id": "f14e8c5d",
   "metadata": {},
   "outputs": [],
   "source": [
    "s_b.ctypes.data == s.ctypes.data, (s3!=s).sum()"
   ]
  },
  {
   "cell_type": "code",
   "execution_count": 121,
   "id": "8626360e",
   "metadata": {},
   "outputs": [
    {
     "name": "stdout",
     "output_type": "stream",
     "text": [
      "settings (256, 128, 3., 0.0005, 300.)\n",
      "0.30461812019348145\n",
      "(51.79013509, 256.09011604, 1279999, 401983, 0, -1, -1., 401717)\n"
     ]
    },
    {
     "data": {
      "text/plain": [
       "(42, 1280000)"
      ]
     },
     "execution_count": 121,
     "metadata": {},
     "output_type": "execute_result"
    }
   ],
   "source": [
    "dt_settings = np.dtype([('lag', 'i4'), ('width', 'i4'), \n",
    "                        ('threshold', 'f8'), ('influence', 'f8'), ('mph', 'f8')\n",
    "                       ])\n",
    "settings_np = np.recarray(1, dtype=dt_settings)[0]\n",
    "\n",
    "settings_np.mph = 300\n",
    "settings_np.lag = 256\n",
    "settings_np.width = 128\n",
    "settings_np.threshold = 3\n",
    "settings_np.influence = 5e-4\n",
    "print('settings', settings_np)\n",
    "\n",
    "dt_state = np.dtype([\n",
    "                    ('avgFilter', 'f8'), ('std2', 'f8'),\n",
    "                    ('write_addr', 'i4'), ('time_between', 'i4'),\n",
    "                    ('length', 'i4'), ('pk_idx', 'i4'),\n",
    "                    ('pk', 'f8'),\n",
    "                    ('pk_time', 'i4'),\n",
    "                   ])\n",
    "state = np.recarray(1, dtype=dt_state)[0]\n",
    "state.avgFilter = 0\n",
    "state.std2 = 0\n",
    "state.write_addr = -1\n",
    "state.length = 0\n",
    "state.pk_idx = -1\n",
    "state.pk = -1\n",
    "state.time_between = -1\n",
    "state.pk_time = -1\n",
    "settings = settings_np\n",
    "\n",
    "pks_blocks = []\n",
    "signals = np.zeros(len(y))\n",
    "debug = np.zeros(len(y))\n",
    "filteredY = np.zeros(settings.lag)\n",
    "start = time.time()\n",
    "for count in range(len(y)//64):\n",
    "#for count in range(4000):\n",
    "    packet = y[(count*64):((count+1)*64)]\n",
    "    packet_s = signals[(count*64):((count+1)*64)]\n",
    "    # packet_d = debug[(count*64):((count+1)*64)]\n",
    "    result = peak_marking_block(packet, len(packet), filteredY, settings, state, packet_s)\n",
    "    if result:\n",
    "        pks_blocks.extend(result)\n",
    "print(time.time()-start)\n",
    "print(state)\n",
    "len(pks_b), len(y)"
   ]
  },
  {
   "cell_type": "code",
   "execution_count": null,
   "id": "21e92f5c",
   "metadata": {},
   "outputs": [],
   "source": []
  }
 ],
 "metadata": {
  "kernelspec": {
   "display_name": "Python 3 (ipykernel)",
   "language": "python",
   "name": "python3"
  },
  "language_info": {
   "codemirror_mode": {
    "name": "ipython",
    "version": 3
   },
   "file_extension": ".py",
   "mimetype": "text/x-python",
   "name": "python",
   "nbconvert_exporter": "python",
   "pygments_lexer": "ipython3",
   "version": "3.8.12"
  }
 },
 "nbformat": 4,
 "nbformat_minor": 5
}
