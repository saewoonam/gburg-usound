{
 "cells": [
  {
   "cell_type": "code",
   "execution_count": 1,
   "id": "3af7e1d4",
   "metadata": {},
   "outputs": [],
   "source": [
    "from cffi import FFI\n",
    "import time\n",
    "import numpy as np\n",
    "import matplotlib.pyplot as plt\n",
    "from numba import jit\n",
    "import tracemalloc"
   ]
  },
  {
   "cell_type": "code",
   "execution_count": null,
   "id": "d9a061d5",
   "metadata": {},
   "outputs": [],
   "source": [
    "ffibuilder = FFI()\n",
    "\n",
    "ffibuilder.cdef(\"\"\"\n",
    "typedef struct node {\n",
    "   int data;\n",
    "   int key;\n",
    "   struct node *next;\n",
    "} result_t;\n",
    "\n",
    "void *malloc(size_t size);\n",
    "void free(void *ptr);\n",
    "struct node * test(void);\n",
    "result_t * empty(void);\n",
    "void append(result_t * head);\n",
    "\"\"\")\n",
    "\n",
    "ffibuilder.set_source('_test', '''\n",
    "typedef struct node {\n",
    "   int data;\n",
    "   int key;\n",
    "   struct node *next;\n",
    "} result_t;\n",
    "\n",
    "result_t * test(void) { return calloc(1, sizeof(result_t)); }\n",
    "\n",
    "result_t * empty(void) { \n",
    "    result_t *results;\n",
    "    results = NULL;\n",
    "    return results; }\n",
    "    \n",
    "void append(result_t * head) {\n",
    "    result_t *new = calloc(1, sizeof(result_t));\n",
    "    new->data = -1;\n",
    "    new->key = -1;\n",
    "    head->next = new;\n",
    "}\n",
    "''')\n",
    "\n",
    "ffibuilder.compile(verbose=True)\n"
   ]
  },
  {
   "cell_type": "code",
   "execution_count": null,
   "id": "53618147",
   "metadata": {},
   "outputs": [],
   "source": [
    "from _test import ffi, lib"
   ]
  },
  {
   "cell_type": "code",
   "execution_count": null,
   "id": "8cd6aa01",
   "metadata": {},
   "outputs": [],
   "source": [
    "r = lib.test()\n",
    "r.data = 1\n",
    "r, r.data"
   ]
  },
  {
   "cell_type": "code",
   "execution_count": null,
   "id": "b3e44ec7",
   "metadata": {},
   "outputs": [],
   "source": [
    "r.next"
   ]
  },
  {
   "cell_type": "code",
   "execution_count": null,
   "id": "6e178e75",
   "metadata": {},
   "outputs": [],
   "source": [
    "r.next == ffibuilder.NULL"
   ]
  },
  {
   "cell_type": "code",
   "execution_count": null,
   "id": "a2e9da90",
   "metadata": {},
   "outputs": [],
   "source": [
    "lib.append(r)"
   ]
  },
  {
   "cell_type": "code",
   "execution_count": null,
   "id": "2a667bae",
   "metadata": {},
   "outputs": [],
   "source": [
    "r.next.data, r.next.key, r.next.next"
   ]
  },
  {
   "cell_type": "code",
   "execution_count": null,
   "id": "507386a6",
   "metadata": {},
   "outputs": [],
   "source": [
    "rr = r.next\n",
    "lib.free(r)\n",
    "lib.free(rr)"
   ]
  },
  {
   "cell_type": "code",
   "execution_count": null,
   "id": "53becec9",
   "metadata": {},
   "outputs": [],
   "source": [
    "rr, r.next, r"
   ]
  },
  {
   "cell_type": "code",
   "execution_count": null,
   "id": "dc6dd97a",
   "metadata": {},
   "outputs": [],
   "source": [
    "rr = ffibuilder.gc(r, lib.free)"
   ]
  },
  {
   "cell_type": "code",
   "execution_count": null,
   "id": "d1378d41",
   "metadata": {},
   "outputs": [],
   "source": [
    "ffibuilder.release(rr)"
   ]
  },
  {
   "cell_type": "code",
   "execution_count": null,
   "id": "209598da",
   "metadata": {},
   "outputs": [],
   "source": [
    "lib.free(r)"
   ]
  },
  {
   "cell_type": "code",
   "execution_count": null,
   "id": "86fd01a6",
   "metadata": {},
   "outputs": [],
   "source": [
    "r = lib.empty()"
   ]
  },
  {
   "cell_type": "code",
   "execution_count": null,
   "id": "a0c27100",
   "metadata": {},
   "outputs": [],
   "source": [
    "print(r)"
   ]
  },
  {
   "cell_type": "code",
   "execution_count": null,
   "id": "a1523466",
   "metadata": {},
   "outputs": [],
   "source": []
  },
  {
   "cell_type": "code",
   "execution_count": null,
   "id": "fdae0f04",
   "metadata": {},
   "outputs": [],
   "source": [
    "snapshot = tracemalloc.take_snapshot()\n",
    "top_stats = snapshot.statistics('lineno')\n",
    "\n",
    "print(\"[ Top 10 ]\")\n",
    "for stat in top_stats[:10]:\n",
    "    print(stat)"
   ]
  },
  {
   "cell_type": "code",
   "execution_count": null,
   "id": "b751c4ee",
   "metadata": {},
   "outputs": [],
   "source": [
    "\n",
    "root = ffibuilder.new(\"struct node *\")\n",
    "link = ffibuilder.new(\"struct node *\")\n",
    "link.data = 1\n",
    "root.next = link"
   ]
  },
  {
   "cell_type": "code",
   "execution_count": null,
   "id": "acf5c3d6",
   "metadata": {},
   "outputs": [],
   "source": [
    "root.key, root.data"
   ]
  },
  {
   "cell_type": "code",
   "execution_count": null,
   "id": "479c819e",
   "metadata": {},
   "outputs": [],
   "source": [
    "root.next.key, root.next.data, root.next, root.next.next"
   ]
  },
  {
   "cell_type": "code",
   "execution_count": null,
   "id": "06d2b57c",
   "metadata": {},
   "outputs": [],
   "source": [
    "root.next.next == ffibuilder.NULL"
   ]
  },
  {
   "cell_type": "code",
   "execution_count": null,
   "id": "a09c43d5",
   "metadata": {},
   "outputs": [],
   "source": [
    "root = ffibuilder.new(\"result_t *\")"
   ]
  },
  {
   "cell_type": "code",
   "execution_count": null,
   "id": "152d7cd3",
   "metadata": {},
   "outputs": [],
   "source": [
    "root.next"
   ]
  },
  {
   "cell_type": "code",
   "execution_count": null,
   "id": "9aff4ff0",
   "metadata": {},
   "outputs": [],
   "source": [
    "lib.append(r)"
   ]
  },
  {
   "cell_type": "code",
   "execution_count": null,
   "id": "7c620e80",
   "metadata": {},
   "outputs": [],
   "source": [
    "print(r, root)"
   ]
  },
  {
   "cell_type": "code",
   "execution_count": null,
   "id": "523265ff",
   "metadata": {},
   "outputs": [],
   "source": [
    "r.next = root"
   ]
  },
  {
   "cell_type": "code",
   "execution_count": null,
   "id": "7adb0ff1",
   "metadata": {},
   "outputs": [],
   "source": [
    "ffi_test = FFI()\n",
    "ffi_test.set_source('_test', '''\n",
    "char* test(void) { return strdup(\"hello world\"); }\n",
    "''')\n",
    "ffi_test.cdef('''\n",
    "char* test(void);\n",
    "void free(void *);\n",
    "''')\n",
    "ffi_test.compile(verbose=True)"
   ]
  },
  {
   "cell_type": "code",
   "execution_count": null,
   "id": "f70010da",
   "metadata": {},
   "outputs": [],
   "source": [
    "from _test import ffi, lib"
   ]
  },
  {
   "cell_type": "code",
   "execution_count": null,
   "id": "5d3322d5",
   "metadata": {},
   "outputs": [],
   "source": [
    "x = lib.test()\n",
    "ffi.string(x)"
   ]
  },
  {
   "cell_type": "code",
   "execution_count": null,
   "id": "bcecf8ff",
   "metadata": {},
   "outputs": [],
   "source": [
    "x"
   ]
  },
  {
   "cell_type": "code",
   "execution_count": null,
   "id": "53da4792",
   "metadata": {},
   "outputs": [],
   "source": [
    "lib.free(x)"
   ]
  },
  {
   "cell_type": "code",
   "execution_count": null,
   "id": "fc29239b",
   "metadata": {},
   "outputs": [],
   "source": [
    "x"
   ]
  },
  {
   "cell_type": "code",
   "execution_count": null,
   "id": "853af6ea",
   "metadata": {},
   "outputs": [],
   "source": [
    "ffi.string(x)"
   ]
  },
  {
   "cell_type": "code",
   "execution_count": null,
   "id": "0ac6398f",
   "metadata": {},
   "outputs": [],
   "source": [
    "b = ffi.buffer(r)[:]"
   ]
  },
  {
   "cell_type": "code",
   "execution_count": null,
   "id": "fab7028d",
   "metadata": {},
   "outputs": [],
   "source": [
    "b, len(b)"
   ]
  },
  {
   "cell_type": "code",
   "execution_count": null,
   "id": "bb25692e",
   "metadata": {},
   "outputs": [],
   "source": [
    "r.data"
   ]
  },
  {
   "cell_type": "code",
   "execution_count": null,
   "id": "c30994a8",
   "metadata": {},
   "outputs": [],
   "source": [
    "bb = ffi.buffer(r.next)[:]"
   ]
  },
  {
   "cell_type": "code",
   "execution_count": null,
   "id": "4bfe32f4",
   "metadata": {},
   "outputs": [],
   "source": [
    "bb"
   ]
  },
  {
   "cell_type": "code",
   "execution_count": null,
   "id": "8fcbb7d4",
   "metadata": {},
   "outputs": [],
   "source": [
    "b = ffi.buffer(r)"
   ]
  },
  {
   "cell_type": "code",
   "execution_count": null,
   "id": "22907877",
   "metadata": {},
   "outputs": [],
   "source": [
    "len(b)"
   ]
  },
  {
   "cell_type": "code",
   "execution_count": null,
   "id": "b8ce203d",
   "metadata": {},
   "outputs": [],
   "source": [
    "r.data = 3"
   ]
  },
  {
   "cell_type": "code",
   "execution_count": null,
   "id": "3b28b5bc",
   "metadata": {},
   "outputs": [],
   "source": [
    "b[:]"
   ]
  },
  {
   "cell_type": "code",
   "execution_count": null,
   "id": "55bc36a5",
   "metadata": {},
   "outputs": [],
   "source": [
    "bytes(b)"
   ]
  },
  {
   "cell_type": "code",
   "execution_count": null,
   "id": "45bb1a8f",
   "metadata": {},
   "outputs": [],
   "source": [
    "c = ffi.buffer(r)[:]"
   ]
  },
  {
   "cell_type": "code",
   "execution_count": null,
   "id": "7694421c",
   "metadata": {},
   "outputs": [],
   "source": [
    "c[8:]"
   ]
  },
  {
   "cell_type": "code",
   "execution_count": null,
   "id": "3fbc9e01",
   "metadata": {},
   "outputs": [],
   "source": [
    "b'%d'%10\n"
   ]
  },
  {
   "cell_type": "code",
   "execution_count": null,
   "id": "ffb4152e",
   "metadata": {},
   "outputs": [],
   "source": [
    "double(1).to_bytes(4, byteorder=\"little\")"
   ]
  },
  {
   "cell_type": "code",
   "execution_count": null,
   "id": "4a729251",
   "metadata": {},
   "outputs": [],
   "source": [
    "import struct"
   ]
  },
  {
   "cell_type": "code",
   "execution_count": null,
   "id": "a61e9ace",
   "metadata": {},
   "outputs": [],
   "source": [
    "dt = np.dtype([('counter', 'i4'), ('status', 'i4'), ('timestamp', 'f8')])\n",
    "\n",
    "header = np.rec.array(np.zeros(1, dtype=dt))\n",
    "\n",
    "header.counter = 1\n",
    "header.status = 2\n",
    "header.timestamp = 3.14\n",
    "raw = header.tobytes()\n",
    "print(header)\n",
    "print(raw)\n",
    "\n",
    "# change the counter directly in raw\n",
    "raw = bytearray(raw)  # make raw mutable\n",
    "raw[0] = 4\n",
    "raw = bytes(raw)\n",
    "print(raw)\n",
    "\n",
    "header_frombytes = np.frombuffer(raw, dtype=dt)\n",
    "print(header_frombytes)"
   ]
  },
  {
   "cell_type": "code",
   "execution_count": null,
   "id": "e5a0cd0c",
   "metadata": {},
   "outputs": [],
   "source": [
    "r = raw+raw"
   ]
  },
  {
   "cell_type": "code",
   "execution_count": null,
   "id": "2b15e891",
   "metadata": {},
   "outputs": [],
   "source": [
    "r"
   ]
  },
  {
   "cell_type": "code",
   "execution_count": null,
   "id": "e7dc66ab",
   "metadata": {},
   "outputs": [],
   "source": [
    "np.frombuffer(raw[:16], dtype=dt)"
   ]
  },
  {
   "cell_type": "code",
   "execution_count": null,
   "id": "479f81b6",
   "metadata": {},
   "outputs": [],
   "source": [
    "mic_data = -np.arange(64, dtype=np.int32)"
   ]
  },
  {
   "cell_type": "code",
   "execution_count": null,
   "id": "3dd75365",
   "metadata": {},
   "outputs": [],
   "source": [
    "data = raw + mic_data.tobytes()"
   ]
  },
  {
   "cell_type": "code",
   "execution_count": null,
   "id": "33b1b463",
   "metadata": {},
   "outputs": [],
   "source": [
    "dt = np.dtype([('counter', 'i4'), ('status', 'i4'), ('timestamp', 'f8'), ('micdata', '64i4')])\n",
    "full = np.rec.array(np.zeros(1, dtype=dt))\n",
    "full.counter = 1\n",
    "full.status = 2\n",
    "full.timestamp = 3.14\n",
    "full.micdata = np.arange(64, dtype=np.int32)"
   ]
  },
  {
   "cell_type": "code",
   "execution_count": null,
   "id": "24051e0a",
   "metadata": {},
   "outputs": [],
   "source": [
    "full"
   ]
  },
  {
   "cell_type": "code",
   "execution_count": null,
   "id": "d9187249",
   "metadata": {},
   "outputs": [],
   "source": [
    "len(full.tobytes())"
   ]
  },
  {
   "cell_type": "code",
   "execution_count": null,
   "id": "89aeccec",
   "metadata": {},
   "outputs": [],
   "source": [
    "full[0].counter"
   ]
  },
  {
   "cell_type": "code",
   "execution_count": null,
   "id": "c29c158d",
   "metadata": {},
   "outputs": [],
   "source": [
    "full = full[0]"
   ]
  },
  {
   "cell_type": "code",
   "execution_count": null,
   "id": "4aef2a8f",
   "metadata": {},
   "outputs": [],
   "source": [
    "full.counter"
   ]
  },
  {
   "cell_type": "code",
   "execution_count": null,
   "id": "27575db1",
   "metadata": {},
   "outputs": [],
   "source": [
    "type(full)"
   ]
  },
  {
   "cell_type": "code",
   "execution_count": null,
   "id": "3464acd6",
   "metadata": {},
   "outputs": [],
   "source": [
    "dt = np.dtype([('counter', 'i4'), ('status', 'i4'), ('timestamp', 'f8'), ('micdata', '64i4')])\n",
    "packet = np.rec.array(np.zeros(1, dtype=dt))\n",
    "packet = packet[0]"
   ]
  },
  {
   "cell_type": "code",
   "execution_count": null,
   "id": "019c8bc0",
   "metadata": {},
   "outputs": [],
   "source": [
    "packet.counter, packet.status"
   ]
  },
  {
   "cell_type": "code",
   "execution_count": null,
   "id": "2e88761f",
   "metadata": {},
   "outputs": [],
   "source": [
    "help(np.frombuffer)"
   ]
  },
  {
   "cell_type": "code",
   "execution_count": null,
   "id": "be10d1cc",
   "metadata": {},
   "outputs": [],
   "source": [
    "f = np.recarray(1, buf=full.tobytes(), dtype=dt)"
   ]
  },
  {
   "cell_type": "code",
   "execution_count": null,
   "id": "f7902962",
   "metadata": {},
   "outputs": [],
   "source": [
    "f = np.frombuffer(full.tobytes(), dtype=dt)\n",
    "f = np.rec.array(f)"
   ]
  },
  {
   "cell_type": "code",
   "execution_count": null,
   "id": "a8fb8d0d",
   "metadata": {},
   "outputs": [],
   "source": [
    "dt_out = np.dtype([('counter', 'i4'), ('status', 'i4'), ('timestamp', 'f8'), ('micdata', '64f8')])\n",
    "packet_out = np.rec.array(np.zeros(1, dtype=dt_out))\n",
    "packet_out = packet_out[0]\n",
    "packet_out.status = -2"
   ]
  },
  {
   "cell_type": "code",
   "execution_count": null,
   "id": "02836a80",
   "metadata": {},
   "outputs": [],
   "source": [
    "len(packet_out.tobytes())"
   ]
  },
  {
   "cell_type": "code",
   "execution_count": 3,
   "id": "6ca33a38",
   "metadata": {},
   "outputs": [],
   "source": [
    "dt_pk = np.dtype([('counter', 'i4'), ('status', 'i4'), ('timestamp', 'f8'),\n",
    "                   ('width', 'i4'), ('time_since_prev', 'i4'), ('pk', 'f8')])\n"
   ]
  },
  {
   "cell_type": "code",
   "execution_count": null,
   "id": "c1dcd914",
   "metadata": {},
   "outputs": [],
   "source": [
    "pks = np.fromfile('zmq/pyzmq/pk_find.out', dtype=dt_pk)"
   ]
  },
  {
   "cell_type": "code",
   "execution_count": null,
   "id": "d93935c9",
   "metadata": {},
   "outputs": [],
   "source": [
    "pks\n"
   ]
  },
  {
   "cell_type": "code",
   "execution_count": 4,
   "id": "4f698345",
   "metadata": {},
   "outputs": [],
   "source": [
    "pkinfo = np.recarray(1, dtype=dt_pk)"
   ]
  },
  {
   "cell_type": "code",
   "execution_count": 8,
   "id": "ae2fa334",
   "metadata": {},
   "outputs": [
    {
     "data": {
      "text/plain": [
       "numpy.record"
      ]
     },
     "execution_count": 8,
     "metadata": {},
     "output_type": "execute_result"
    }
   ],
   "source": [
    "type(pkinfo[0])"
   ]
  },
  {
   "cell_type": "code",
   "execution_count": 9,
   "id": "e599459f",
   "metadata": {},
   "outputs": [
    {
     "name": "stdout",
     "output_type": "stream",
     "text": [
      "Help on class record in module numpy:\n",
      "\n",
      "class record(void)\n",
      " |  A data-type scalar that allows field access as attribute lookup.\n",
      " |  \n",
      " |  Method resolution order:\n",
      " |      record\n",
      " |      void\n",
      " |      flexible\n",
      " |      generic\n",
      " |      builtins.object\n",
      " |  \n",
      " |  Methods defined here:\n",
      " |  \n",
      " |  __getattribute__(self, attr)\n",
      " |      Return getattr(self, name).\n",
      " |  \n",
      " |  __getitem__(self, indx)\n",
      " |      Return self[key].\n",
      " |  \n",
      " |  __repr__(self)\n",
      " |      Return repr(self).\n",
      " |  \n",
      " |  __setattr__(self, attr, val)\n",
      " |      Implement setattr(self, name, value).\n",
      " |  \n",
      " |  __str__(self)\n",
      " |      Return str(self).\n",
      " |  \n",
      " |  pprint(self)\n",
      " |      Pretty-print all fields.\n",
      " |  \n",
      " |  ----------------------------------------------------------------------\n",
      " |  Data descriptors defined here:\n",
      " |  \n",
      " |  __dict__\n",
      " |      dictionary for instance variables (if defined)\n",
      " |  \n",
      " |  __weakref__\n",
      " |      list of weak references to the object (if defined)\n",
      " |  \n",
      " |  ----------------------------------------------------------------------\n",
      " |  Methods inherited from void:\n",
      " |  \n",
      " |  __delitem__(self, key, /)\n",
      " |      Delete self[key].\n",
      " |  \n",
      " |  __eq__(self, value, /)\n",
      " |      Return self==value.\n",
      " |  \n",
      " |  __ge__(self, value, /)\n",
      " |      Return self>=value.\n",
      " |  \n",
      " |  __gt__(self, value, /)\n",
      " |      Return self>value.\n",
      " |  \n",
      " |  __hash__(self, /)\n",
      " |      Return hash(self).\n",
      " |  \n",
      " |  __le__(self, value, /)\n",
      " |      Return self<=value.\n",
      " |  \n",
      " |  __len__(self, /)\n",
      " |      Return len(self).\n",
      " |  \n",
      " |  __lt__(self, value, /)\n",
      " |      Return self<value.\n",
      " |  \n",
      " |  __ne__(self, value, /)\n",
      " |      Return self!=value.\n",
      " |  \n",
      " |  __setitem__(self, key, value, /)\n",
      " |      Set self[key] to value.\n",
      " |  \n",
      " |  getfield(...)\n",
      " |      Scalar method identical to the corresponding array attribute.\n",
      " |      \n",
      " |      Please see `ndarray.getfield`.\n",
      " |  \n",
      " |  setfield(...)\n",
      " |      Scalar method identical to the corresponding array attribute.\n",
      " |      \n",
      " |      Please see `ndarray.setfield`.\n",
      " |  \n",
      " |  ----------------------------------------------------------------------\n",
      " |  Static methods inherited from void:\n",
      " |  \n",
      " |  __new__(*args, **kwargs) from builtins.type\n",
      " |      Create and return a new object.  See help(type) for accurate signature.\n",
      " |  \n",
      " |  ----------------------------------------------------------------------\n",
      " |  Data descriptors inherited from void:\n",
      " |  \n",
      " |  base\n",
      " |      base object\n",
      " |  \n",
      " |  dtype\n",
      " |      dtype object\n",
      " |  \n",
      " |  flags\n",
      " |      integer value of flags\n",
      " |  \n",
      " |  ----------------------------------------------------------------------\n",
      " |  Methods inherited from generic:\n",
      " |  \n",
      " |  __abs__(self, /)\n",
      " |      abs(self)\n",
      " |  \n",
      " |  __add__(self, value, /)\n",
      " |      Return self+value.\n",
      " |  \n",
      " |  __and__(self, value, /)\n",
      " |      Return self&value.\n",
      " |  \n",
      " |  __array__(...)\n",
      " |      sc.__array__(dtype) return 0-dim array from scalar with specified dtype\n",
      " |  \n",
      " |  __array_wrap__(...)\n",
      " |      sc.__array_wrap__(obj) return scalar from array\n",
      " |  \n",
      " |  __bool__(self, /)\n",
      " |      self != 0\n",
      " |  \n",
      " |  __copy__(...)\n",
      " |  \n",
      " |  __deepcopy__(...)\n",
      " |  \n",
      " |  __divmod__(self, value, /)\n",
      " |      Return divmod(self, value).\n",
      " |  \n",
      " |  __float__(self, /)\n",
      " |      float(self)\n",
      " |  \n",
      " |  __floordiv__(self, value, /)\n",
      " |      Return self//value.\n",
      " |  \n",
      " |  __format__(...)\n",
      " |      NumPy array scalar formatter\n",
      " |  \n",
      " |  __int__(self, /)\n",
      " |      int(self)\n",
      " |  \n",
      " |  __invert__(self, /)\n",
      " |      ~self\n",
      " |  \n",
      " |  __lshift__(self, value, /)\n",
      " |      Return self<<value.\n",
      " |  \n",
      " |  __mod__(self, value, /)\n",
      " |      Return self%value.\n",
      " |  \n",
      " |  __mul__(self, value, /)\n",
      " |      Return self*value.\n",
      " |  \n",
      " |  __neg__(self, /)\n",
      " |      -self\n",
      " |  \n",
      " |  __or__(self, value, /)\n",
      " |      Return self|value.\n",
      " |  \n",
      " |  __pos__(self, /)\n",
      " |      +self\n",
      " |  \n",
      " |  __pow__(self, value, mod=None, /)\n",
      " |      Return pow(self, value, mod).\n",
      " |  \n",
      " |  __radd__(self, value, /)\n",
      " |      Return value+self.\n",
      " |  \n",
      " |  __rand__(self, value, /)\n",
      " |      Return value&self.\n",
      " |  \n",
      " |  __rdivmod__(self, value, /)\n",
      " |      Return divmod(value, self).\n",
      " |  \n",
      " |  __reduce__(...)\n",
      " |      Helper for pickle.\n",
      " |  \n",
      " |  __rfloordiv__(self, value, /)\n",
      " |      Return value//self.\n",
      " |  \n",
      " |  __rlshift__(self, value, /)\n",
      " |      Return value<<self.\n",
      " |  \n",
      " |  __rmod__(self, value, /)\n",
      " |      Return value%self.\n",
      " |  \n",
      " |  __rmul__(self, value, /)\n",
      " |      Return value*self.\n",
      " |  \n",
      " |  __ror__(self, value, /)\n",
      " |      Return value|self.\n",
      " |  \n",
      " |  __rpow__(self, value, mod=None, /)\n",
      " |      Return pow(value, self, mod).\n",
      " |  \n",
      " |  __rrshift__(self, value, /)\n",
      " |      Return value>>self.\n",
      " |  \n",
      " |  __rshift__(self, value, /)\n",
      " |      Return self>>value.\n",
      " |  \n",
      " |  __rsub__(self, value, /)\n",
      " |      Return value-self.\n",
      " |  \n",
      " |  __rtruediv__(self, value, /)\n",
      " |      Return value/self.\n",
      " |  \n",
      " |  __rxor__(self, value, /)\n",
      " |      Return value^self.\n",
      " |  \n",
      " |  __setstate__(...)\n",
      " |  \n",
      " |  __sizeof__(...)\n",
      " |      Size of object in memory, in bytes.\n",
      " |  \n",
      " |  __sub__(self, value, /)\n",
      " |      Return self-value.\n",
      " |  \n",
      " |  __truediv__(self, value, /)\n",
      " |      Return self/value.\n",
      " |  \n",
      " |  __xor__(self, value, /)\n",
      " |      Return self^value.\n",
      " |  \n",
      " |  all(...)\n",
      " |      Scalar method identical to the corresponding array attribute.\n",
      " |      \n",
      " |      Please see `ndarray.all`.\n",
      " |  \n",
      " |  any(...)\n",
      " |      Scalar method identical to the corresponding array attribute.\n",
      " |      \n",
      " |      Please see `ndarray.any`.\n",
      " |  \n",
      " |  argmax(...)\n",
      " |      Scalar method identical to the corresponding array attribute.\n",
      " |      \n",
      " |      Please see `ndarray.argmax`.\n",
      " |  \n",
      " |  argmin(...)\n",
      " |      Scalar method identical to the corresponding array attribute.\n",
      " |      \n",
      " |      Please see `ndarray.argmin`.\n",
      " |  \n",
      " |  argsort(...)\n",
      " |      Scalar method identical to the corresponding array attribute.\n",
      " |      \n",
      " |      Please see `ndarray.argsort`.\n",
      " |  \n",
      " |  astype(...)\n",
      " |      Scalar method identical to the corresponding array attribute.\n",
      " |      \n",
      " |      Please see `ndarray.astype`.\n",
      " |  \n",
      " |  byteswap(...)\n",
      " |      Scalar method identical to the corresponding array attribute.\n",
      " |      \n",
      " |      Please see `ndarray.byteswap`.\n",
      " |  \n",
      " |  choose(...)\n",
      " |      Scalar method identical to the corresponding array attribute.\n",
      " |      \n",
      " |      Please see `ndarray.choose`.\n",
      " |  \n",
      " |  clip(...)\n",
      " |      Scalar method identical to the corresponding array attribute.\n",
      " |      \n",
      " |      Please see `ndarray.clip`.\n",
      " |  \n",
      " |  compress(...)\n",
      " |      Scalar method identical to the corresponding array attribute.\n",
      " |      \n",
      " |      Please see `ndarray.compress`.\n",
      " |  \n",
      " |  conj(...)\n",
      " |  \n",
      " |  conjugate(...)\n",
      " |      Scalar method identical to the corresponding array attribute.\n",
      " |      \n",
      " |      Please see `ndarray.conjugate`.\n",
      " |  \n",
      " |  copy(...)\n",
      " |      Scalar method identical to the corresponding array attribute.\n",
      " |      \n",
      " |      Please see `ndarray.copy`.\n",
      " |  \n",
      " |  cumprod(...)\n",
      " |      Scalar method identical to the corresponding array attribute.\n",
      " |      \n",
      " |      Please see `ndarray.cumprod`.\n",
      " |  \n",
      " |  cumsum(...)\n",
      " |      Scalar method identical to the corresponding array attribute.\n",
      " |      \n",
      " |      Please see `ndarray.cumsum`.\n",
      " |  \n",
      " |  diagonal(...)\n",
      " |      Scalar method identical to the corresponding array attribute.\n",
      " |      \n",
      " |      Please see `ndarray.diagonal`.\n",
      " |  \n",
      " |  dump(...)\n",
      " |      Scalar method identical to the corresponding array attribute.\n",
      " |      \n",
      " |      Please see `ndarray.dump`.\n",
      " |  \n",
      " |  dumps(...)\n",
      " |      Scalar method identical to the corresponding array attribute.\n",
      " |      \n",
      " |      Please see `ndarray.dumps`.\n",
      " |  \n",
      " |  fill(...)\n",
      " |      Scalar method identical to the corresponding array attribute.\n",
      " |      \n",
      " |      Please see `ndarray.fill`.\n",
      " |  \n",
      " |  flatten(...)\n",
      " |      Scalar method identical to the corresponding array attribute.\n",
      " |      \n",
      " |      Please see `ndarray.flatten`.\n",
      " |  \n",
      " |  item(...)\n",
      " |      Scalar method identical to the corresponding array attribute.\n",
      " |      \n",
      " |      Please see `ndarray.item`.\n",
      " |  \n",
      " |  itemset(...)\n",
      " |      Scalar method identical to the corresponding array attribute.\n",
      " |      \n",
      " |      Please see `ndarray.itemset`.\n",
      " |  \n",
      " |  max(...)\n",
      " |      Scalar method identical to the corresponding array attribute.\n",
      " |      \n",
      " |      Please see `ndarray.max`.\n",
      " |  \n",
      " |  mean(...)\n",
      " |      Scalar method identical to the corresponding array attribute.\n",
      " |      \n",
      " |      Please see `ndarray.mean`.\n",
      " |  \n",
      " |  min(...)\n",
      " |      Scalar method identical to the corresponding array attribute.\n",
      " |      \n",
      " |      Please see `ndarray.min`.\n",
      " |  \n",
      " |  newbyteorder(...)\n",
      " |      newbyteorder(new_order='S', /)\n",
      " |      \n",
      " |      Return a new `dtype` with a different byte order.\n",
      " |      \n",
      " |      Changes are also made in all fields and sub-arrays of the data type.\n",
      " |      \n",
      " |      The `new_order` code can be any from the following:\n",
      " |      \n",
      " |      * 'S' - swap dtype from current to opposite endian\n",
      " |      * {'<', 'little'} - little endian\n",
      " |      * {'>', 'big'} - big endian\n",
      " |      * '=' - native order\n",
      " |      * {'|', 'I'} - ignore (no change to byte order)\n",
      " |      \n",
      " |      Parameters\n",
      " |      ----------\n",
      " |      new_order : str, optional\n",
      " |          Byte order to force; a value from the byte order specifications\n",
      " |          above.  The default value ('S') results in swapping the current\n",
      " |          byte order.\n",
      " |      \n",
      " |      \n",
      " |      Returns\n",
      " |      -------\n",
      " |      new_dtype : dtype\n",
      " |          New `dtype` object with the given change to the byte order.\n",
      " |  \n",
      " |  nonzero(...)\n",
      " |      Scalar method identical to the corresponding array attribute.\n",
      " |      \n",
      " |      Please see `ndarray.nonzero`.\n",
      " |  \n",
      " |  prod(...)\n",
      " |      Scalar method identical to the corresponding array attribute.\n",
      " |      \n",
      " |      Please see `ndarray.prod`.\n",
      " |  \n",
      " |  ptp(...)\n",
      " |      Scalar method identical to the corresponding array attribute.\n",
      " |      \n",
      " |      Please see `ndarray.ptp`.\n",
      " |  \n",
      " |  put(...)\n",
      " |      Scalar method identical to the corresponding array attribute.\n",
      " |      \n",
      " |      Please see `ndarray.put`.\n",
      " |  \n",
      " |  ravel(...)\n",
      " |      Scalar method identical to the corresponding array attribute.\n",
      " |      \n",
      " |      Please see `ndarray.ravel`.\n",
      " |  \n",
      " |  repeat(...)\n",
      " |      Scalar method identical to the corresponding array attribute.\n",
      " |      \n",
      " |      Please see `ndarray.repeat`.\n",
      " |  \n",
      " |  reshape(...)\n",
      " |      Scalar method identical to the corresponding array attribute.\n",
      " |      \n",
      " |      Please see `ndarray.reshape`.\n",
      " |  \n",
      " |  resize(...)\n",
      " |      Scalar method identical to the corresponding array attribute.\n",
      " |      \n",
      " |      Please see `ndarray.resize`.\n",
      " |  \n",
      " |  round(...)\n",
      " |      Scalar method identical to the corresponding array attribute.\n",
      " |      \n",
      " |      Please see `ndarray.round`.\n",
      " |  \n",
      " |  searchsorted(...)\n",
      " |      Scalar method identical to the corresponding array attribute.\n",
      " |      \n",
      " |      Please see `ndarray.searchsorted`.\n",
      " |  \n",
      " |  setflags(...)\n",
      " |      Scalar method identical to the corresponding array attribute.\n",
      " |      \n",
      " |      Please see `ndarray.setflags`.\n",
      " |  \n",
      " |  sort(...)\n",
      " |      Scalar method identical to the corresponding array attribute.\n",
      " |      \n",
      " |      Please see `ndarray.sort`.\n",
      " |  \n",
      " |  squeeze(...)\n",
      " |      Scalar method identical to the corresponding array attribute.\n",
      " |      \n",
      " |      Please see `ndarray.squeeze`.\n",
      " |  \n",
      " |  std(...)\n",
      " |      Scalar method identical to the corresponding array attribute.\n",
      " |      \n",
      " |      Please see `ndarray.std`.\n",
      " |  \n",
      " |  sum(...)\n",
      " |      Scalar method identical to the corresponding array attribute.\n",
      " |      \n",
      " |      Please see `ndarray.sum`.\n",
      " |  \n",
      " |  swapaxes(...)\n",
      " |      Scalar method identical to the corresponding array attribute.\n",
      " |      \n",
      " |      Please see `ndarray.swapaxes`.\n",
      " |  \n",
      " |  take(...)\n",
      " |      Scalar method identical to the corresponding array attribute.\n",
      " |      \n",
      " |      Please see `ndarray.take`.\n",
      " |  \n",
      " |  tobytes(...)\n",
      " |  \n",
      " |  tofile(...)\n",
      " |      Scalar method identical to the corresponding array attribute.\n",
      " |      \n",
      " |      Please see `ndarray.tofile`.\n",
      " |  \n",
      " |  tolist(...)\n",
      " |      Scalar method identical to the corresponding array attribute.\n",
      " |      \n",
      " |      Please see `ndarray.tolist`.\n",
      " |  \n",
      " |  tostring(...)\n",
      " |      Scalar method identical to the corresponding array attribute.\n",
      " |      \n",
      " |      Please see `ndarray.tostring`.\n",
      " |  \n",
      " |  trace(...)\n",
      " |      Scalar method identical to the corresponding array attribute.\n",
      " |      \n",
      " |      Please see `ndarray.trace`.\n",
      " |  \n",
      " |  transpose(...)\n",
      " |      Scalar method identical to the corresponding array attribute.\n",
      " |      \n",
      " |      Please see `ndarray.transpose`.\n",
      " |  \n",
      " |  var(...)\n",
      " |      Scalar method identical to the corresponding array attribute.\n",
      " |      \n",
      " |      Please see `ndarray.var`.\n",
      " |  \n",
      " |  view(...)\n",
      " |      Scalar method identical to the corresponding array attribute.\n",
      " |      \n",
      " |      Please see `ndarray.view`.\n",
      " |  \n",
      " |  ----------------------------------------------------------------------\n",
      " |  Data descriptors inherited from generic:\n",
      " |  \n",
      " |  T\n",
      " |      Scalar attribute identical to the corresponding array attribute.\n",
      " |      \n",
      " |      Please see `ndarray.T`.\n",
      " |  \n",
      " |  __array_interface__\n",
      " |      Array protocol: Python side\n",
      " |  \n",
      " |  __array_priority__\n",
      " |      Array priority.\n",
      " |  \n",
      " |  __array_struct__\n",
      " |      Array protocol: struct\n",
      " |  \n",
      " |  data\n",
      " |      Pointer to start of data.\n",
      " |  \n",
      " |  flat\n",
      " |      A 1-D view of the scalar.\n",
      " |  \n",
      " |  imag\n",
      " |      The imaginary part of the scalar.\n",
      " |  \n",
      " |  itemsize\n",
      " |      The length of one element in bytes.\n",
      " |  \n",
      " |  nbytes\n",
      " |      The length of the scalar in bytes.\n",
      " |  \n",
      " |  ndim\n",
      " |      The number of array dimensions.\n",
      " |  \n",
      " |  real\n",
      " |      The real part of the scalar.\n",
      " |  \n",
      " |  shape\n",
      " |      Tuple of array dimensions.\n",
      " |  \n",
      " |  size\n",
      " |      The number of elements in the gentype.\n",
      " |  \n",
      " |  strides\n",
      " |      Tuple of bytes steps in each dimension.\n",
      "\n"
     ]
    }
   ],
   "source": [
    "help(np.record)"
   ]
  },
  {
   "cell_type": "code",
   "execution_count": 23,
   "id": "ac8327da",
   "metadata": {},
   "outputs": [],
   "source": [
    "rec = np.record(0)"
   ]
  },
  {
   "cell_type": "code",
   "execution_count": 26,
   "id": "12931007",
   "metadata": {},
   "outputs": [
    {
     "ename": "AttributeError",
     "evalue": "Cannot set 'dtype' attribute",
     "output_type": "error",
     "traceback": [
      "\u001b[0;31m---------------------------------------------------------------------------\u001b[0m",
      "\u001b[0;31mAttributeError\u001b[0m                            Traceback (most recent call last)",
      "\u001b[0;32m/var/folders/3t/7ztd8ysx38l1xvfndk0pq994000k7f/T/ipykernel_54422/348841411.py\u001b[0m in \u001b[0;36m<module>\u001b[0;34m\u001b[0m\n\u001b[0;32m----> 1\u001b[0;31m \u001b[0mrec\u001b[0m\u001b[0;34m.\u001b[0m\u001b[0mdtype\u001b[0m \u001b[0;34m=\u001b[0m \u001b[0mdt_pk\u001b[0m\u001b[0;34m\u001b[0m\u001b[0;34m\u001b[0m\u001b[0m\n\u001b[0m",
      "\u001b[0;32m~/micromamba/envs/cq/lib/python3.8/site-packages/numpy/core/records.py\u001b[0m in \u001b[0;36m__setattr__\u001b[0;34m(self, attr, val)\u001b[0m\n\u001b[1;32m    268\u001b[0m     \u001b[0;32mdef\u001b[0m \u001b[0m__setattr__\u001b[0m\u001b[0;34m(\u001b[0m\u001b[0mself\u001b[0m\u001b[0;34m,\u001b[0m \u001b[0mattr\u001b[0m\u001b[0;34m,\u001b[0m \u001b[0mval\u001b[0m\u001b[0;34m)\u001b[0m\u001b[0;34m:\u001b[0m\u001b[0;34m\u001b[0m\u001b[0;34m\u001b[0m\u001b[0m\n\u001b[1;32m    269\u001b[0m         \u001b[0;32mif\u001b[0m \u001b[0mattr\u001b[0m \u001b[0;32min\u001b[0m \u001b[0;34m(\u001b[0m\u001b[0;34m'setfield'\u001b[0m\u001b[0;34m,\u001b[0m \u001b[0;34m'getfield'\u001b[0m\u001b[0;34m,\u001b[0m \u001b[0;34m'dtype'\u001b[0m\u001b[0;34m)\u001b[0m\u001b[0;34m:\u001b[0m\u001b[0;34m\u001b[0m\u001b[0;34m\u001b[0m\u001b[0m\n\u001b[0;32m--> 270\u001b[0;31m             \u001b[0;32mraise\u001b[0m \u001b[0mAttributeError\u001b[0m\u001b[0;34m(\u001b[0m\u001b[0;34m\"Cannot set '%s' attribute\"\u001b[0m \u001b[0;34m%\u001b[0m \u001b[0mattr\u001b[0m\u001b[0;34m)\u001b[0m\u001b[0;34m\u001b[0m\u001b[0;34m\u001b[0m\u001b[0m\n\u001b[0m\u001b[1;32m    271\u001b[0m         \u001b[0mfielddict\u001b[0m \u001b[0;34m=\u001b[0m \u001b[0mnt\u001b[0m\u001b[0;34m.\u001b[0m\u001b[0mvoid\u001b[0m\u001b[0;34m.\u001b[0m\u001b[0m__getattribute__\u001b[0m\u001b[0;34m(\u001b[0m\u001b[0mself\u001b[0m\u001b[0;34m,\u001b[0m \u001b[0;34m'dtype'\u001b[0m\u001b[0;34m)\u001b[0m\u001b[0;34m.\u001b[0m\u001b[0mfields\u001b[0m\u001b[0;34m\u001b[0m\u001b[0;34m\u001b[0m\u001b[0m\n\u001b[1;32m    272\u001b[0m         \u001b[0mres\u001b[0m \u001b[0;34m=\u001b[0m \u001b[0mfielddict\u001b[0m\u001b[0;34m.\u001b[0m\u001b[0mget\u001b[0m\u001b[0;34m(\u001b[0m\u001b[0mattr\u001b[0m\u001b[0;34m,\u001b[0m \u001b[0;32mNone\u001b[0m\u001b[0;34m)\u001b[0m\u001b[0;34m\u001b[0m\u001b[0;34m\u001b[0m\u001b[0m\n",
      "\u001b[0;31mAttributeError\u001b[0m: Cannot set 'dtype' attribute"
     ]
    }
   ],
   "source": [
    "rec.dtype = dt_pk"
   ]
  },
  {
   "cell_type": "code",
   "execution_count": null,
   "id": "aabfaf51",
   "metadata": {},
   "outputs": [],
   "source": []
  }
 ],
 "metadata": {
  "kernelspec": {
   "display_name": "Python 3 (ipykernel)",
   "language": "python",
   "name": "python3"
  },
  "language_info": {
   "codemirror_mode": {
    "name": "ipython",
    "version": 3
   },
   "file_extension": ".py",
   "mimetype": "text/x-python",
   "name": "python",
   "nbconvert_exporter": "python",
   "pygments_lexer": "ipython3",
   "version": "3.8.12"
  }
 },
 "nbformat": 4,
 "nbformat_minor": 5
}
