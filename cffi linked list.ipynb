{
 "cells": [
  {
   "cell_type": "code",
   "execution_count": 12,
   "id": "3af7e1d4",
   "metadata": {},
   "outputs": [],
   "source": [
    "from cffi import FFI\n",
    "import time\n",
    "import numpy as np\n",
    "import matplotlib.pyplot as plt\n",
    "from numba import jit\n",
    "import tracemalloc"
   ]
  },
  {
   "cell_type": "code",
   "execution_count": 13,
   "id": "d9a061d5",
   "metadata": {},
   "outputs": [
    {
     "name": "stdout",
     "output_type": "stream",
     "text": [
      "generating ./_test.c\n",
      "the current directory is '/Users/nams/Documents/projects/gburg-ultrasonic'\n",
      "running build_ext\n",
      "building '_test' extension\n",
      "gcc -Wno-unused-result -Wsign-compare -Wunreachable-code -DNDEBUG -g -fwrapv -O3 -Wall -Wstrict-prototypes -I/Users/nams/micromamba/envs/cq/include -arch x86_64 -I/Users/nams/micromamba/envs/cq/include -arch x86_64 -I/Users/nams/micromamba/envs/cq/include/python3.8 -c _test.c -o ./_test.o\n",
      "gcc -bundle -undefined dynamic_lookup -L/Users/nams/micromamba/envs/cq/lib -arch x86_64 -L/Users/nams/micromamba/envs/cq/lib -arch x86_64 -arch x86_64 ./_test.o -o ./_test.cpython-38-darwin.so\n"
     ]
    },
    {
     "data": {
      "text/plain": [
       "'/Users/nams/Documents/projects/gburg-ultrasonic/_test.cpython-38-darwin.so'"
      ]
     },
     "execution_count": 13,
     "metadata": {},
     "output_type": "execute_result"
    }
   ],
   "source": [
    "ffibuilder = FFI()\n",
    "\n",
    "ffibuilder.cdef(\"\"\"\n",
    "typedef struct node {\n",
    "   int data;\n",
    "   int key;\n",
    "   struct node *next;\n",
    "} result_t;\n",
    "\n",
    "void *malloc(size_t size);\n",
    "void free(void *ptr);\n",
    "struct node * test(void);\n",
    "result_t * empty(void);\n",
    "void append(result_t * head);\n",
    "\"\"\")\n",
    "\n",
    "ffibuilder.set_source('_test', '''\n",
    "typedef struct node {\n",
    "   int data;\n",
    "   int key;\n",
    "   struct node *next;\n",
    "} result_t;\n",
    "\n",
    "result_t * test(void) { return calloc(1, sizeof(result_t)); }\n",
    "\n",
    "result_t * empty(void) { \n",
    "    result_t *results;\n",
    "    results = NULL;\n",
    "    return results; }\n",
    "    \n",
    "void append(result_t * head) {\n",
    "    result_t *new = calloc(1, sizeof(result_t));\n",
    "    new->data = -1;\n",
    "    new->key = -1;\n",
    "    head->next = new;\n",
    "}\n",
    "''')\n",
    "\n",
    "ffibuilder.compile(verbose=True)\n"
   ]
  },
  {
   "cell_type": "code",
   "execution_count": 14,
   "id": "53618147",
   "metadata": {},
   "outputs": [],
   "source": [
    "from _test import ffi, lib"
   ]
  },
  {
   "cell_type": "code",
   "execution_count": 15,
   "id": "8cd6aa01",
   "metadata": {},
   "outputs": [
    {
     "data": {
      "text/plain": [
       "(<cdata 'struct node *' 0x7fc640ae8c20>, 1)"
      ]
     },
     "execution_count": 15,
     "metadata": {},
     "output_type": "execute_result"
    }
   ],
   "source": [
    "r = lib.test()\n",
    "r.data = 1\n",
    "r, r.data"
   ]
  },
  {
   "cell_type": "code",
   "execution_count": 16,
   "id": "b3e44ec7",
   "metadata": {},
   "outputs": [
    {
     "data": {
      "text/plain": [
       "<cdata 'struct node *' NULL>"
      ]
     },
     "execution_count": 16,
     "metadata": {},
     "output_type": "execute_result"
    }
   ],
   "source": [
    "r.next"
   ]
  },
  {
   "cell_type": "code",
   "execution_count": 17,
   "id": "6e178e75",
   "metadata": {},
   "outputs": [
    {
     "data": {
      "text/plain": [
       "True"
      ]
     },
     "execution_count": 17,
     "metadata": {},
     "output_type": "execute_result"
    }
   ],
   "source": [
    "r.next == ffibuilder.NULL"
   ]
  },
  {
   "cell_type": "code",
   "execution_count": 27,
   "id": "a2e9da90",
   "metadata": {},
   "outputs": [],
   "source": [
    "lib.append(r)"
   ]
  },
  {
   "cell_type": "code",
   "execution_count": 28,
   "id": "2a667bae",
   "metadata": {},
   "outputs": [
    {
     "data": {
      "text/plain": [
       "(-1, -1, <cdata 'struct node *' NULL>)"
      ]
     },
     "execution_count": 28,
     "metadata": {},
     "output_type": "execute_result"
    }
   ],
   "source": [
    "r.next.data, r.next.key, r.next.next"
   ]
  },
  {
   "cell_type": "code",
   "execution_count": 9,
   "id": "507386a6",
   "metadata": {},
   "outputs": [],
   "source": [
    "rr = r.next\n",
    "lib.free(r)\n",
    "lib.free(rr)"
   ]
  },
  {
   "cell_type": "code",
   "execution_count": null,
   "id": "53becec9",
   "metadata": {},
   "outputs": [],
   "source": [
    "rr, r.next, r"
   ]
  },
  {
   "cell_type": "code",
   "execution_count": null,
   "id": "dc6dd97a",
   "metadata": {},
   "outputs": [],
   "source": [
    "rr = ffibuilder.gc(r, lib.free)"
   ]
  },
  {
   "cell_type": "code",
   "execution_count": null,
   "id": "d1378d41",
   "metadata": {},
   "outputs": [],
   "source": [
    "ffibuilder.release(rr)"
   ]
  },
  {
   "cell_type": "code",
   "execution_count": null,
   "id": "209598da",
   "metadata": {},
   "outputs": [],
   "source": [
    "lib.free(r)"
   ]
  },
  {
   "cell_type": "code",
   "execution_count": 10,
   "id": "86fd01a6",
   "metadata": {},
   "outputs": [],
   "source": [
    "r = lib.empty()"
   ]
  },
  {
   "cell_type": "code",
   "execution_count": 11,
   "id": "a0c27100",
   "metadata": {},
   "outputs": [
    {
     "name": "stdout",
     "output_type": "stream",
     "text": [
      "<cdata 'struct node *' NULL>\n"
     ]
    }
   ],
   "source": [
    "print(r)"
   ]
  },
  {
   "cell_type": "code",
   "execution_count": null,
   "id": "a1523466",
   "metadata": {},
   "outputs": [],
   "source": []
  },
  {
   "cell_type": "code",
   "execution_count": null,
   "id": "fdae0f04",
   "metadata": {},
   "outputs": [],
   "source": [
    "snapshot = tracemalloc.take_snapshot()\n",
    "top_stats = snapshot.statistics('lineno')\n",
    "\n",
    "print(\"[ Top 10 ]\")\n",
    "for stat in top_stats[:10]:\n",
    "    print(stat)"
   ]
  },
  {
   "cell_type": "code",
   "execution_count": null,
   "id": "b751c4ee",
   "metadata": {},
   "outputs": [],
   "source": [
    "\n",
    "root = ffibuilder.new(\"struct node *\")\n",
    "link = ffibuilder.new(\"struct node *\")\n",
    "link.data = 1\n",
    "root.next = link"
   ]
  },
  {
   "cell_type": "code",
   "execution_count": null,
   "id": "acf5c3d6",
   "metadata": {},
   "outputs": [],
   "source": [
    "root.key, root.data"
   ]
  },
  {
   "cell_type": "code",
   "execution_count": null,
   "id": "479c819e",
   "metadata": {},
   "outputs": [],
   "source": [
    "root.next.key, root.next.data, root.next, root.next.next"
   ]
  },
  {
   "cell_type": "code",
   "execution_count": null,
   "id": "06d2b57c",
   "metadata": {},
   "outputs": [],
   "source": [
    "root.next.next == ffibuilder.NULL"
   ]
  },
  {
   "cell_type": "code",
   "execution_count": null,
   "id": "a09c43d5",
   "metadata": {},
   "outputs": [],
   "source": [
    "root = ffibuilder.new(\"result_t *\")"
   ]
  },
  {
   "cell_type": "code",
   "execution_count": null,
   "id": "152d7cd3",
   "metadata": {},
   "outputs": [],
   "source": [
    "root.next"
   ]
  },
  {
   "cell_type": "code",
   "execution_count": null,
   "id": "9aff4ff0",
   "metadata": {},
   "outputs": [],
   "source": [
    "lib.append(r)"
   ]
  },
  {
   "cell_type": "code",
   "execution_count": null,
   "id": "7c620e80",
   "metadata": {},
   "outputs": [],
   "source": [
    "print(r, root)"
   ]
  },
  {
   "cell_type": "code",
   "execution_count": null,
   "id": "523265ff",
   "metadata": {},
   "outputs": [],
   "source": [
    "r.next = root"
   ]
  },
  {
   "cell_type": "code",
   "execution_count": null,
   "id": "7adb0ff1",
   "metadata": {},
   "outputs": [],
   "source": [
    "ffi_test = FFI()\n",
    "ffi_test.set_source('_test', '''\n",
    "char* test(void) { return strdup(\"hello world\"); }\n",
    "''')\n",
    "ffi_test.cdef('''\n",
    "char* test(void);\n",
    "void free(void *);\n",
    "''')\n",
    "ffi_test.compile(verbose=True)"
   ]
  },
  {
   "cell_type": "code",
   "execution_count": null,
   "id": "f70010da",
   "metadata": {},
   "outputs": [],
   "source": [
    "from _test import ffi, lib"
   ]
  },
  {
   "cell_type": "code",
   "execution_count": null,
   "id": "5d3322d5",
   "metadata": {},
   "outputs": [],
   "source": [
    "x = lib.test()\n",
    "ffi.string(x)"
   ]
  },
  {
   "cell_type": "code",
   "execution_count": null,
   "id": "bcecf8ff",
   "metadata": {},
   "outputs": [],
   "source": [
    "x"
   ]
  },
  {
   "cell_type": "code",
   "execution_count": null,
   "id": "53da4792",
   "metadata": {},
   "outputs": [],
   "source": [
    "lib.free(x)"
   ]
  },
  {
   "cell_type": "code",
   "execution_count": null,
   "id": "fc29239b",
   "metadata": {},
   "outputs": [],
   "source": [
    "x"
   ]
  },
  {
   "cell_type": "code",
   "execution_count": null,
   "id": "853af6ea",
   "metadata": {},
   "outputs": [],
   "source": [
    "ffi.string(x)"
   ]
  },
  {
   "cell_type": "code",
   "execution_count": 31,
   "id": "0ac6398f",
   "metadata": {},
   "outputs": [],
   "source": [
    "b = ffi.buffer(r)[:]"
   ]
  },
  {
   "cell_type": "code",
   "execution_count": 32,
   "id": "fab7028d",
   "metadata": {},
   "outputs": [
    {
     "data": {
      "text/plain": [
       "(b'\\x01\\x00\\x00\\x00\\x00\\x00\\x00\\x00 \\xfe\\xf0A\\xc6\\x7f\\x00\\x00', 16)"
      ]
     },
     "execution_count": 32,
     "metadata": {},
     "output_type": "execute_result"
    }
   ],
   "source": [
    "b, len(b)"
   ]
  },
  {
   "cell_type": "code",
   "execution_count": 25,
   "id": "bb25692e",
   "metadata": {},
   "outputs": [
    {
     "data": {
      "text/plain": [
       "1"
      ]
     },
     "execution_count": 25,
     "metadata": {},
     "output_type": "execute_result"
    }
   ],
   "source": [
    "r.data"
   ]
  },
  {
   "cell_type": "code",
   "execution_count": 29,
   "id": "c30994a8",
   "metadata": {},
   "outputs": [],
   "source": [
    "bb = ffi.buffer(r.next)[:]"
   ]
  },
  {
   "cell_type": "code",
   "execution_count": 30,
   "id": "4bfe32f4",
   "metadata": {},
   "outputs": [
    {
     "data": {
      "text/plain": [
       "b'\\xff\\xff\\xff\\xff\\xff\\xff\\xff\\xff\\x00\\x00\\x00\\x00\\x00\\x00\\x00\\x00'"
      ]
     },
     "execution_count": 30,
     "metadata": {},
     "output_type": "execute_result"
    }
   ],
   "source": [
    "bb"
   ]
  },
  {
   "cell_type": "code",
   "execution_count": 33,
   "id": "8fcbb7d4",
   "metadata": {},
   "outputs": [],
   "source": [
    "b = ffi.buffer(r)"
   ]
  },
  {
   "cell_type": "code",
   "execution_count": 34,
   "id": "22907877",
   "metadata": {},
   "outputs": [
    {
     "data": {
      "text/plain": [
       "16"
      ]
     },
     "execution_count": 34,
     "metadata": {},
     "output_type": "execute_result"
    }
   ],
   "source": [
    "len(b)"
   ]
  },
  {
   "cell_type": "code",
   "execution_count": 49,
   "id": "b8ce203d",
   "metadata": {},
   "outputs": [],
   "source": [
    "r.data = 3"
   ]
  },
  {
   "cell_type": "code",
   "execution_count": 50,
   "id": "3b28b5bc",
   "metadata": {},
   "outputs": [
    {
     "data": {
      "text/plain": [
       "b'\\x03\\x00\\x00\\x00\\x00\\x00\\x00\\x00 \\xfe\\xf0A\\xc6\\x7f\\x00\\x00'"
      ]
     },
     "execution_count": 50,
     "metadata": {},
     "output_type": "execute_result"
    }
   ],
   "source": [
    "b[:]"
   ]
  },
  {
   "cell_type": "code",
   "execution_count": 37,
   "id": "55bc36a5",
   "metadata": {},
   "outputs": [
    {
     "data": {
      "text/plain": [
       "b'\\x01\\x00\\x00\\x00\\x00\\x00\\x00\\x00 \\xfe\\xf0A\\xc6\\x7f\\x00\\x00'"
      ]
     },
     "execution_count": 37,
     "metadata": {},
     "output_type": "execute_result"
    }
   ],
   "source": [
    "bytes(b)"
   ]
  },
  {
   "cell_type": "code",
   "execution_count": 52,
   "id": "45bb1a8f",
   "metadata": {},
   "outputs": [],
   "source": [
    "c = ffi.buffer(r)[:]"
   ]
  },
  {
   "cell_type": "code",
   "execution_count": 55,
   "id": "7694421c",
   "metadata": {},
   "outputs": [
    {
     "data": {
      "text/plain": [
       "b' \\xfe\\xf0A\\xc6\\x7f\\x00\\x00'"
      ]
     },
     "execution_count": 55,
     "metadata": {},
     "output_type": "execute_result"
    }
   ],
   "source": [
    "c[8:]"
   ]
  },
  {
   "cell_type": "code",
   "execution_count": 57,
   "id": "3fbc9e01",
   "metadata": {},
   "outputs": [
    {
     "data": {
      "text/plain": [
       "b'10'"
      ]
     },
     "execution_count": 57,
     "metadata": {},
     "output_type": "execute_result"
    }
   ],
   "source": [
    "b'%d'%10\n"
   ]
  },
  {
   "cell_type": "code",
   "execution_count": 61,
   "id": "ffb4152e",
   "metadata": {},
   "outputs": [
    {
     "ename": "NameError",
     "evalue": "name 'double' is not defined",
     "output_type": "error",
     "traceback": [
      "\u001b[0;31m---------------------------------------------------------------------------\u001b[0m",
      "\u001b[0;31mNameError\u001b[0m                                 Traceback (most recent call last)",
      "\u001b[0;32m/var/folders/3t/7ztd8ysx38l1xvfndk0pq994000k7f/T/ipykernel_78950/3992062915.py\u001b[0m in \u001b[0;36m<module>\u001b[0;34m\u001b[0m\n\u001b[0;32m----> 1\u001b[0;31m \u001b[0mdouble\u001b[0m\u001b[0;34m(\u001b[0m\u001b[0;36m1\u001b[0m\u001b[0;34m)\u001b[0m\u001b[0;34m.\u001b[0m\u001b[0mto_bytes\u001b[0m\u001b[0;34m(\u001b[0m\u001b[0;36m4\u001b[0m\u001b[0;34m,\u001b[0m \u001b[0mbyteorder\u001b[0m\u001b[0;34m=\u001b[0m\u001b[0;34m\"little\"\u001b[0m\u001b[0;34m)\u001b[0m\u001b[0;34m\u001b[0m\u001b[0;34m\u001b[0m\u001b[0m\n\u001b[0m",
      "\u001b[0;31mNameError\u001b[0m: name 'double' is not defined"
     ]
    }
   ],
   "source": [
    "double(1).to_bytes(4, byteorder=\"little\")"
   ]
  },
  {
   "cell_type": "code",
   "execution_count": 62,
   "id": "4a729251",
   "metadata": {},
   "outputs": [],
   "source": [
    "import struct"
   ]
  },
  {
   "cell_type": "code",
   "execution_count": 149,
   "id": "a61e9ace",
   "metadata": {},
   "outputs": [
    {
     "name": "stdout",
     "output_type": "stream",
     "text": [
      "[(1, 2, 3.14)]\n",
      "b'\\x01\\x00\\x00\\x00\\x02\\x00\\x00\\x00\\x1f\\x85\\xebQ\\xb8\\x1e\\t@'\n",
      "b'\\x04\\x00\\x00\\x00\\x02\\x00\\x00\\x00\\x1f\\x85\\xebQ\\xb8\\x1e\\t@'\n",
      "[(4, 2, 3.14)]\n"
     ]
    }
   ],
   "source": [
    "dt = np.dtype([('counter', 'i4'), ('status', 'i4'), ('timestamp', 'f8')])\n",
    "\n",
    "header = np.rec.array(np.zeros(1, dtype=dt))\n",
    "\n",
    "header.counter = 1\n",
    "header.status = 2\n",
    "header.timestamp = 3.14\n",
    "raw = header.tobytes()\n",
    "print(header)\n",
    "print(raw)\n",
    "\n",
    "# change the counter directly in raw\n",
    "raw = bytearray(raw)  # make raw mutable\n",
    "raw[0] = 4\n",
    "raw = bytes(raw)\n",
    "print(raw)\n",
    "\n",
    "header_frombytes = np.frombuffer(raw, dtype=dt)\n",
    "print(header_frombytes)"
   ]
  },
  {
   "cell_type": "code",
   "execution_count": 133,
   "id": "e5a0cd0c",
   "metadata": {},
   "outputs": [],
   "source": [
    "raw = bytearray(raw)"
   ]
  },
  {
   "cell_type": "code",
   "execution_count": 136,
   "id": "2b15e891",
   "metadata": {},
   "outputs": [],
   "source": [
    "raw[0] = 5"
   ]
  },
  {
   "cell_type": "code",
   "execution_count": 137,
   "id": "e7dc66ab",
   "metadata": {},
   "outputs": [],
   "source": [
    "raw = bytes(raw)"
   ]
  },
  {
   "cell_type": "code",
   "execution_count": 138,
   "id": "479f81b6",
   "metadata": {},
   "outputs": [
    {
     "data": {
      "text/plain": [
       "b'\\x05\\x00\\x00\\x00\\x02\\x00\\x00\\x00\\x1f\\x85\\xebQ\\xb8\\x1e\\t@'"
      ]
     },
     "execution_count": 138,
     "metadata": {},
     "output_type": "execute_result"
    }
   ],
   "source": [
    "raw"
   ]
  },
  {
   "cell_type": "code",
   "execution_count": 111,
   "id": "3dd75365",
   "metadata": {},
   "outputs": [],
   "source": [
    "h = np.rec.array(np.zeros(1, dtype=dt))"
   ]
  },
  {
   "cell_type": "code",
   "execution_count": 114,
   "id": "33b1b463",
   "metadata": {},
   "outputs": [
    {
     "data": {
      "text/plain": [
       "b'\\x02\\x00\\x00\\x00\\x00\\x00\\x00\\x00\\x00\\x00\\x00\\x00\\x00\\x00\\x00\\x00'"
      ]
     },
     "execution_count": 114,
     "metadata": {},
     "output_type": "execute_result"
    }
   ],
   "source": [
    "h.tobytes()"
   ]
  },
  {
   "cell_type": "code",
   "execution_count": 126,
   "id": "79fcd58e",
   "metadata": {},
   "outputs": [],
   "source": [
    "h2 = np.frombuffer(h.tobytes(), dtype=dt)"
   ]
  },
  {
   "cell_type": "code",
   "execution_count": null,
   "id": "24051e0a",
   "metadata": {},
   "outputs": [],
   "source": []
  }
 ],
 "metadata": {
  "kernelspec": {
   "display_name": "Python 3 (ipykernel)",
   "language": "python",
   "name": "python3"
  },
  "language_info": {
   "codemirror_mode": {
    "name": "ipython",
    "version": 3
   },
   "file_extension": ".py",
   "mimetype": "text/x-python",
   "name": "python",
   "nbconvert_exporter": "python",
   "pygments_lexer": "ipython3",
   "version": "3.8.12"
  }
 },
 "nbformat": 4,
 "nbformat_minor": 5
}
