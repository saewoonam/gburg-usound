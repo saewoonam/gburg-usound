{
 "cells": [
  {
   "cell_type": "code",
   "execution_count": 1,
   "id": "94766b80",
   "metadata": {},
   "outputs": [],
   "source": [
    "from cffi import FFI\n",
    "import time\n",
    "import numpy as np\n",
    "import matplotlib.pyplot as plt\n",
    "from numba import jit"
   ]
  },
  {
   "cell_type": "code",
   "execution_count": 2,
   "id": "349ded29",
   "metadata": {},
   "outputs": [],
   "source": [
    "import _test"
   ]
  },
  {
   "cell_type": "code",
   "execution_count": 3,
   "id": "3eceeda6",
   "metadata": {},
   "outputs": [],
   "source": [
    "filename = '/Users/nams/Downloads/Fulldata_initiator_19delay.dat'\n",
    "data = np.loadtxt(filename, delimiter=',').flatten()"
   ]
  },
  {
   "cell_type": "code",
   "execution_count": 4,
   "id": "1d7b3bb5",
   "metadata": {},
   "outputs": [],
   "source": [
    "# Sliding Goertzel\n",
    "@jit\n",
    "def sg_v2(x, k=25*4):\n",
    "    Pxx = []\n",
    "    N = 64*4\n",
    "    w = 2*np.pi*k/N;\n",
    "    cw = np.cos(w);\n",
    "    c = 2*cw;\n",
    "    sw = np.sin(w);\n",
    "    z1=0;\n",
    "    z2=0;\n",
    "    #while (idx < (len(x)-1)):\n",
    "    for idx in range(len(x)):\n",
    "        if idx<N:\n",
    "            z0 = x[idx] + c*z1 - z2;\n",
    "        else:\n",
    "            z0 = x[idx] - x[idx-N] + c*z1 -z2;\n",
    "        z2 = z1;\n",
    "        z1 = z0;\n",
    "\n",
    "        P = z2*z2 + z1*z1 - c * z1*z2\n",
    "        Pxx.append(P)\n",
    "    return np.array(Pxx)"
   ]
  },
  {
   "cell_type": "code",
   "execution_count": 5,
   "id": "98b9d3e0",
   "metadata": {},
   "outputs": [],
   "source": [
    "y = sg_v2(data, k=100)"
   ]
  },
  {
   "cell_type": "code",
   "execution_count": 6,
   "id": "ea0aa4ac",
   "metadata": {},
   "outputs": [],
   "source": [
    "settings = _test.ffi.new(\"settings_t *\")\n",
    "history = _test.ffi.new(\"history_t *\")\n",
    "\n",
    "settings.lag = 256\n",
    "settings.threshold = 5\n",
    "settings.influence = 1e-4\n",
    "history.start = -1\n",
    "history.pkidx = -1\n",
    "history.length = 0\n",
    "history.pk = -1\n",
    "history.avg = 0\n",
    "history.std2 = 0\n",
    "history.time_since_pk = -1\n",
    "history.time_pk = -1\n",
    "history.init = 0\n",
    "\n",
    "x = y.astype(np.double)\n",
    "x_p = _test.ffi.cast('double *', x.ctypes.data)\n",
    "N = len(x)\n",
    "signals = np.zeros(len(y));\n",
    "signals_p = _test.ffi.cast('double *', signals.ctypes.data)\n",
    "filteredY = np.zeros(settings.lag);\n",
    "filteredY_p = _test.ffi.cast('double *', filteredY.ctypes.data)\n",
    "debug = np.zeros(len(y));\n",
    "debug_p = _test.ffi.cast('double *', debug.ctypes.data)"
   ]
  },
  {
   "cell_type": "code",
   "execution_count": null,
   "id": "abaf561d",
   "metadata": {},
   "outputs": [],
   "source": [
    "x_p"
   ]
  },
  {
   "cell_type": "code",
   "execution_count": null,
   "id": "1694da27",
   "metadata": {},
   "outputs": [],
   "source": [
    "x1_p = _test.ffi.cast('double *', x[1:].ctypes.data)"
   ]
  },
  {
   "cell_type": "code",
   "execution_count": null,
   "id": "b87d42d7",
   "metadata": {},
   "outputs": [],
   "source": [
    "x1_p"
   ]
  },
  {
   "cell_type": "code",
   "execution_count": null,
   "id": "bed61a9a",
   "metadata": {},
   "outputs": [],
   "source": [
    "x_p[0]"
   ]
  },
  {
   "cell_type": "code",
   "execution_count": null,
   "id": "e9411dae",
   "metadata": {},
   "outputs": [],
   "source": [
    "x_p[1]"
   ]
  },
  {
   "cell_type": "code",
   "execution_count": null,
   "id": "56263904",
   "metadata": {},
   "outputs": [],
   "source": [
    "x_p + 1"
   ]
  },
  {
   "cell_type": "code",
   "execution_count": null,
   "id": "32e10a0b",
   "metadata": {},
   "outputs": [],
   "source": [
    "results = _test.lib.peakMark(x_p, N, settings, history, filteredY_p, signals_p, debug_p)"
   ]
  },
  {
   "cell_type": "code",
   "execution_count": null,
   "id": "10072091",
   "metadata": {},
   "outputs": [],
   "source": [
    "last = results\n",
    "r = []\n",
    "while True:\n",
    "    if last == _test.ffi.NULL:\n",
    "        break\n",
    "    r.append([last.start, last.length, last.pk_idx, last.pk_time, last.pk])\n",
    "    last = last.next\n",
    "print(np.array(r, dtype=int))\n",
    "print(results, last)"
   ]
  },
  {
   "cell_type": "code",
   "execution_count": null,
   "id": "687c2f5f",
   "metadata": {},
   "outputs": [],
   "source": [
    "_test.lib.free_results(results)"
   ]
  },
  {
   "cell_type": "code",
   "execution_count": null,
   "id": "170b0e84",
   "metadata": {},
   "outputs": [],
   "source": [
    "settings = _test.ffi.new(\"settings_t *\")\n",
    "history = _test.ffi.new(\"history_t *\")\n",
    "\n",
    "settings.lag = 256\n",
    "settings.threshold = 5\n",
    "settings.influence = 1e-4\n",
    "history.start = -1\n",
    "history.pkidx = -1\n",
    "history.length = 0\n",
    "history.pk = -1\n",
    "history.avg = 0\n",
    "history.std2 = 0\n",
    "history.time_since_pk = -1\n",
    "history.time_pk = -1\n",
    "history.init = 0\n",
    "\n",
    "x = y.astype(np.double)\n",
    "x_p = _test.ffi.cast('double *', x.ctypes.data)\n",
    "N = len(x)\n",
    "signals = np.zeros(len(y));\n",
    "signals_p = _test.ffi.cast('double *', signals.ctypes.data)\n",
    "filteredY = np.zeros(settings.lag);\n",
    "filteredY_p = _test.ffi.cast('double *', filteredY.ctypes.data)\n",
    "debug = np.zeros(len(y));\n",
    "debug_p = _test.ffi.cast('double *', debug.ctypes.data)"
   ]
  },
  {
   "cell_type": "code",
   "execution_count": 7,
   "id": "e853cd63",
   "metadata": {},
   "outputs": [
    {
     "name": "stdout",
     "output_type": "stream",
     "text": [
      "0 63 -1 0 -1 64\n",
      "1 127 -1 0 -1 128\n",
      "2 191 -1 0 -1 192\n",
      "3 255 -1 0 -1 256\n",
      "4 319 -1 0 -1 256\n",
      "5 15 51 13 8 256\n",
      "5 [41, 1, 41, 361, 530.7800174518406]\n",
      "6 79 51 77 44 256\n",
      "7 143 51 141 44 256\n"
     ]
    }
   ],
   "source": [
    "for count in range(8):\n",
    "    last = _test.lib.peakMark(x_p + count*64, 64, settings, history, filteredY_p, signals_p, debug_p)\n",
    "    print(count, history.time_since_pk, history.start, history.length, history.time_pk, history.init)\n",
    "    if (last != _test.ffi.NULL):\n",
    "        print(count, [last.start, last.length, last.pk_idx, last.pk_time, last.pk])\n",
    "        _test.lib.free_results(last)"
   ]
  },
  {
   "cell_type": "code",
   "execution_count": null,
   "id": "8f5ac227",
   "metadata": {},
   "outputs": [],
   "source": [
    "history.time_since_pk, history.start, history.length, history.pkidx"
   ]
  },
  {
   "cell_type": "code",
   "execution_count": null,
   "id": "5a6cb3bf",
   "metadata": {},
   "outputs": [],
   "source": [
    "last = results\n",
    "rr = []\n",
    "while True:\n",
    "    if last == _test.ffi.NULL:\n",
    "        break\n",
    "    rr.append([last.start, last.length, last.pk_idx, last.pk_time, last.pk])\n",
    "    last = last.next\n",
    "print(np.array(rr, dtype=int))\n",
    "print(results, last)"
   ]
  },
  {
   "cell_type": "code",
   "execution_count": null,
   "id": "8c48c704",
   "metadata": {},
   "outputs": [],
   "source": [
    "np.array(r)[:,0] - np.array(rr)[:-1,0]"
   ]
  },
  {
   "cell_type": "code",
   "execution_count": 16,
   "id": "2eae2064",
   "metadata": {},
   "outputs": [],
   "source": [
    "d_std = []\n",
    "d_crit = []\n",
    "def peak_marking(y, lag, threshold, influence):\n",
    "    global debug\n",
    "    pks = []\n",
    "    start = -1\n",
    "    pk = 0\n",
    "    pk_idx = -1\n",
    "    length = 0\n",
    "    signals = np.zeros(len(y), dtype=bool)\n",
    "    filteredY = np.array(y[:lag])\n",
    "    avgFilter = np.mean(filteredY)\n",
    "    stdFilter = np.std(filteredY)\n",
    "    for i in range(lag, len(y)):\n",
    "        d_crit.append(abs(y[i]-avgFilter))\n",
    "        if abs(y[i] - avgFilter) > threshold * stdFilter:\n",
    "            if y[i]>avgFilter:\n",
    "                if start<0:\n",
    "                    start = i\n",
    "                    length = 1\n",
    "                else:\n",
    "                    length += 1\n",
    "                signals[i] = True\n",
    "                if y[i] > pk:\n",
    "                    pk, pk_idx = y[i], i\n",
    "                filteredY[i%lag] = influence * y[i] + (1 - influence) * filteredY[(i-1)%lag]\n",
    "        else:\n",
    "            signals[i] = False\n",
    "            filteredY[i%lag] = y[i]\n",
    "            if start > 0:\n",
    "                pks.append([start, length, pk_idx, pk])\n",
    "                start, pk_idx, pk, length = -1, -1, 0, 0\n",
    "        if (start>0):\n",
    "            print(i, start, length, pk_idx)\n",
    "        avgFilter = np.mean(filteredY)\n",
    "        stdFilter = np.std(filteredY)\n",
    "        d_std.append(stdFilter)\n",
    "    print(avgFilter, stdFilter)\n",
    "    #print(filteredY)\n",
    "    return signals, pks"
   ]
  },
  {
   "cell_type": "code",
   "execution_count": 17,
   "id": "942b7094",
   "metadata": {},
   "outputs": [
    {
     "name": "stdout",
     "output_type": "stream",
     "text": [
      "1260.966788167958 896.0114603575524\n"
     ]
    }
   ],
   "source": [
    "s,pks = peak_marking(x[:64], 256, 5, 1e-4)"
   ]
  },
  {
   "cell_type": "code",
   "execution_count": 19,
   "id": "5d4cd117",
   "metadata": {},
   "outputs": [
    {
     "data": {
      "text/plain": [
       "621"
      ]
     },
     "execution_count": 19,
     "metadata": {},
     "output_type": "execute_result"
    }
   ],
   "source": [
    "39744//64"
   ]
  },
  {
   "cell_type": "code",
   "execution_count": null,
   "id": "54b752ac",
   "metadata": {},
   "outputs": [],
   "source": []
  }
 ],
 "metadata": {
  "kernelspec": {
   "display_name": "Python 3 (ipykernel)",
   "language": "python",
   "name": "python3"
  },
  "language_info": {
   "codemirror_mode": {
    "name": "ipython",
    "version": 3
   },
   "file_extension": ".py",
   "mimetype": "text/x-python",
   "name": "python",
   "nbconvert_exporter": "python",
   "pygments_lexer": "ipython3",
   "version": "3.8.12"
  }
 },
 "nbformat": 4,
 "nbformat_minor": 5
}
