{
 "cells": [
  {
   "cell_type": "code",
   "execution_count": 1,
   "id": "cd2f80d8",
   "metadata": {},
   "outputs": [],
   "source": [
    "from cffi import FFI\n",
    "import time\n",
    "import numpy as np\n",
    "import matplotlib.pyplot as plt"
   ]
  },
  {
   "cell_type": "code",
   "execution_count": 2,
   "id": "d56be5a4",
   "metadata": {},
   "outputs": [
    {
     "name": "stdout",
     "output_type": "stream",
     "text": [
      "generating ./_goertzel.c\n",
      "(already up-to-date)\n",
      "the current directory is '/Users/nams/Documents/projects/gburg-ultrasonic'\n",
      "running build_ext\n",
      "building '_goertzel' extension\n",
      "gcc -Wno-unused-result -Wsign-compare -Wunreachable-code -DNDEBUG -g -fwrapv -O3 -Wall -Wstrict-prototypes -I/Users/nams/micromamba/envs/cq/include -arch x86_64 -I/Users/nams/micromamba/envs/cq/include -arch x86_64 -I/Users/nams/micromamba/envs/cq/include/python3.8 -c _goertzel.c -o ./_goertzel.o\n",
      "gcc -bundle -undefined dynamic_lookup -L/Users/nams/micromamba/envs/cq/lib -arch x86_64 -L/Users/nams/micromamba/envs/cq/lib -arch x86_64 -arch x86_64 ./_goertzel.o -lm -o ./_goertzel.cpython-38-darwin.so\n"
     ]
    },
    {
     "data": {
      "text/plain": [
       "'/Users/nams/Documents/projects/gburg-ultrasonic/_goertzel.cpython-38-darwin.so'"
      ]
     },
     "execution_count": 2,
     "metadata": {},
     "output_type": "execute_result"
    }
   ],
   "source": [
    "from cffi import FFI\n",
    "ffibuilder = FFI()\n",
    "\n",
    "ffibuilder.set_source(\"_goertzel\",\n",
    "   r\"\"\" // passed to the real C compiler,\n",
    "        // contains implementation of things declared in cdef()\n",
    "        #include <math.h>\n",
    "\n",
    "        // We can also define custom wrappers or other functions\n",
    "        // here (this is an example only):\n",
    "        double test_cos(double x) {\n",
    "            return cos(x);\n",
    "        }\n",
    "        #define RING_SIZE 512\n",
    "        \n",
    "        void sg_block(int32_t *x, int offset, double* z, double *Pxx, double c) {\n",
    "            int block_size = 64;\n",
    "            int window_size = 256; \n",
    "            // Do index math just once... \n",
    "            int32_t *curr = x+offset;\n",
    "            int32_t *past = x + ((offset - window_size) & (RING_SIZE-1));\n",
    "            double z0;\n",
    "            double z1 = z[0];\n",
    "            double z2 = z[1];\n",
    "            \n",
    "            for (int idx=0; idx<block_size; idx++) {\n",
    "                // z0 = x[offset + idx] - x[((offset + idx - window_size)&(512-1))] + c*z1 - z2;\n",
    "                z0 = *curr++ - *past++ + c*z1 - z2;\n",
    "                z2 = z1;\n",
    "                z1 = z0;\n",
    "                Pxx[idx] = z2*z2 + z1*z1 - c * z1*z2;\n",
    "            }\n",
    "            z[0] = z1;\n",
    "            z[1] = z2;\n",
    "        }\n",
    "    \"\"\",\n",
    "    libraries=['m'])   # or a list of libraries to link with\n",
    "    # (more arguments like setup.py's Extension class:\n",
    "    # include_dirs=[..], extra_objects=[..], and so on)\n",
    "\n",
    "ffibuilder.cdef(\"\"\"\n",
    "    // declarations that are shared between Python and C\n",
    "    double test_cos(double x);\n",
    "    void sg_block(int32_t *x, int offset, double* z, double *Pxx, double c);\n",
    "\"\"\")\n",
    "\n",
    "\n",
    "ffibuilder.compile(verbose=True)\n"
   ]
  },
  {
   "cell_type": "code",
   "execution_count": 3,
   "id": "2c14bc76",
   "metadata": {},
   "outputs": [
    {
     "name": "stdout",
     "output_type": "stream",
     "text": [
      "0.14063501358032227\n"
     ]
    }
   ],
   "source": [
    "# import compiled c library... used CFFI in API mode\n",
    "import _goertzel\n",
    "\n",
    "#  Load data into a binary array\n",
    "fd = open('single_tone_v2.dat', 'rb')\n",
    "raw = fd.read()\n",
    "fd.close()\n",
    "\n",
    "# Allocated all memory needed to run algorithm\n",
    "z = np.zeros(2)\n",
    "ring = np.zeros(512, np.int32)\n",
    "result = np.zeros(1280000)\n",
    "Pxx = np.zeros(64)\n",
    "# Point to the beginning of the ring buffer\n",
    "write_addr = 0\n",
    "# Calculate parameters for the goertzel algorithm\n",
    "k=100; window_size=256\n",
    "w = 2*np.pi*k/window_size;\n",
    "c = 2*np.cos(w);\n",
    "\n",
    "# Get pointers to the addresses in memory for the output and results\n",
    "ptr_ring = _goertzel.ffi.cast(\"int32_t *\", ring.ctypes.data)\n",
    "ptr_z = _goertzel.ffi.cast(\"double *\", z.ctypes.data)\n",
    "ptr_Pxx = _goertzel.ffi.cast(\"double *\", Pxx.ctypes.data)\n",
    "\n",
    "#\n",
    "start = time.time()\n",
    "for count in range(int(len(raw)/4/64)):\n",
    "    block = np.frombuffer(raw[(count*256):((count+1)*256)], dtype=np.int32)\n",
    "    block = block >> 14\n",
    "    if (len(block)==0):\n",
    "        break\n",
    "    ring[(write_addr):(write_addr+64)] = block\n",
    "    _goertzel.lib.sg_block(ptr_ring, write_addr, ptr_z, ptr_Pxx, c)\n",
    "    write_addr += 64\n",
    "    write_addr &= (512-1)\n",
    "    result[count*64:(count+1)*64] = Pxx\n",
    "print(time.time()-start)"
   ]
  },
  {
   "cell_type": "code",
   "execution_count": 4,
   "id": "d01d3575",
   "metadata": {},
   "outputs": [],
   "source": [
    "from numba import jit\n",
    "# Sliding Goertzel block\n",
    "@jit\n",
    "def sg_block(x, offset, z1, z2, Pxx, c, block_size=64, k=25*4, window_size=64*4):\n",
    "    #Pxx = np.zeros[block_size]\n",
    "    #w = 2*np.pi*k/window_size;\n",
    "    #c = 2*np.cos(w);\n",
    "    for idx in range(block_size):\n",
    "        z0 = x[offset + idx] - x[offset + idx-window_size] + c*z1 -z2;\n",
    "        z2 = z1;\n",
    "        z1 = z0;\n",
    "\n",
    "        Pxx[idx] = z2*z2 + z1*z1 - c * z1*z2\n",
    "    return z1, z2"
   ]
  },
  {
   "cell_type": "code",
   "execution_count": 5,
   "id": "350796e9",
   "metadata": {},
   "outputs": [],
   "source": [
    "# Sliding Goertzel\n",
    "@jit\n",
    "def sg_v2(x, k=25*4):\n",
    "    Pxx = []\n",
    "    N = 64*4\n",
    "    w = 2*np.pi*k/N;\n",
    "    cw = np.cos(w);\n",
    "    c = 2*cw;\n",
    "    sw = np.sin(w);\n",
    "    z1=0;\n",
    "    z2=0;\n",
    "    #while (idx < (len(x)-1)):\n",
    "    for idx in range(len(x)):\n",
    "        if idx<N:\n",
    "            z0 = x[idx] + c*z1 - z2;\n",
    "        else:\n",
    "            z0 = x[idx] - x[idx-N] + c*z1 -z2;\n",
    "        z2 = z1;\n",
    "        z1 = z0;\n",
    "\n",
    "        P = z2*z2 + z1*z1 - c * z1*z2\n",
    "        Pxx.append(P)\n",
    "    return np.array(Pxx)"
   ]
  },
  {
   "cell_type": "code",
   "execution_count": 10,
   "id": "201ede3f",
   "metadata": {},
   "outputs": [
    {
     "name": "stdout",
     "output_type": "stream",
     "text": [
      "0.02104496955871582\n"
     ]
    }
   ],
   "source": [
    "raw = np.fromfile('single_tone_v2.dat', dtype=np.int32)\n",
    "data = raw>>14\n",
    "start = time.time()\n",
    "filtered = sg_v2(data, k=100)\n",
    "print(time.time()-start)"
   ]
  },
  {
   "cell_type": "code",
   "execution_count": 7,
   "id": "2462de3c",
   "metadata": {},
   "outputs": [
    {
     "data": {
      "text/plain": [
       "(array([], dtype=int64),)"
      ]
     },
     "execution_count": 7,
     "metadata": {},
     "output_type": "execute_result"
    }
   ],
   "source": [
    "# compare if we get identical answers with known working filter\n",
    "np.where(filtered-result)"
   ]
  },
  {
   "cell_type": "code",
   "execution_count": 8,
   "id": "ca018af3",
   "metadata": {},
   "outputs": [
    {
     "data": {
      "text/plain": [
       "[<matplotlib.lines.Line2D at 0x7ff01faabac0>]"
      ]
     },
     "execution_count": 8,
     "metadata": {},
     "output_type": "execute_result"
    },
    {
     "data": {
      "image/png": "[encoded data removed]",
      "text/plain": [
       "<Figure size 432x288 with 1 Axes>"
      ]
     },
     "metadata": {
      "needs_background": "light"
     },
     "output_type": "display_data"
    }
   ],
   "source": [
    "plt.plot((2*result)**0.5)"
   ]
  },
  {
   "cell_type": "code",
   "execution_count": null,
   "id": "0cce9eae",
   "metadata": {},
   "outputs": [],
   "source": []
  }
 ],
 "metadata": {
  "kernelspec": {
   "display_name": "Python 3 (ipykernel)",
   "language": "python",
   "name": "python3"
  },
  "language_info": {
   "codemirror_mode": {
    "name": "ipython",
    "version": 3
   },
   "file_extension": ".py",
   "mimetype": "text/x-python",
   "name": "python",
   "nbconvert_exporter": "python",
   "pygments_lexer": "ipython3",
   "version": "3.8.12"
  }
 },
 "nbformat": 4,
 "nbformat_minor": 5
}
