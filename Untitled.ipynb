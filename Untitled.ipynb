{
 "cells": [
  {
   "cell_type": "code",
   "execution_count": null,
   "id": "1a5da5f5",
   "metadata": {},
   "outputs": [],
   "source": []
  },
  {
   "cell_type": "code",
   "execution_count": 1,
   "id": "957b52cf",
   "metadata": {},
   "outputs": [],
   "source": [
    "import cffi\n",
    "\n",
    "ffi = cffi.FFI()\n",
    "ffi.cdef(\"\"\"\n",
    "int add_int(int, int);\n",
    "float add_float(float, float);\n",
    "\"\"\")\n",
    "adder = ffi.dlopen('./adder.so')\n",
    "result = adder.add_int(4,5)\n",
    "result_float = adder.add_float(4,5)"
   ]
  },
  {
   "cell_type": "code",
   "execution_count": 2,
   "id": "edd944bf",
   "metadata": {},
   "outputs": [
    {
     "name": "stdout",
     "output_type": "stream",
     "text": [
      "9 9.0\n"
     ]
    }
   ],
   "source": [
    "print(result, result_float)"
   ]
  },
  {
   "cell_type": "code",
   "execution_count": null,
   "id": "e54cedad",
   "metadata": {},
   "outputs": [],
   "source": []
  },
  {
   "cell_type": "code",
   "execution_count": null,
   "id": "f7bc7d22",
   "metadata": {},
   "outputs": [],
   "source": []
  }
 ],
 "metadata": {
  "kernelspec": {
   "display_name": "Python 3 (ipykernel)",
   "language": "python",
   "name": "python3"
  },
  "language_info": {
   "codemirror_mode": {
    "name": "ipython",
    "version": 3
   },
   "file_extension": ".py",
   "mimetype": "text/x-python",
   "name": "python",
   "nbconvert_exporter": "python",
   "pygments_lexer": "ipython3",
   "version": "3.8.12"
  }
 },
 "nbformat": 4,
 "nbformat_minor": 5
}
